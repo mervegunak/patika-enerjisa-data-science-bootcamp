{
 "cells": [
  {
   "cell_type": "code",
   "execution_count": 1,
   "id": "578c61b9-0ffc-40eb-8c8f-0b1f40dba0bd",
   "metadata": {},
   "outputs": [],
   "source": [
    "import pandas as pd\n",
    "import numpy as np\n",
    "import datetime as dt\n",
    "import plotly.express as px\n",
    "import plotly.graph_objects as go\n",
    "\n",
    "\n",
    "import seaborn as sns\n",
    "import matplotlib.pyplot as plt\n",
    "\n",
    "\n",
    "from sklearn.model_selection import train_test_split\n",
    "from sklearn.linear_model import LogisticRegression\n",
    "from sklearn.metrics import classification_report\n",
    "from sklearn.tree import DecisionTreeClassifier\n",
    "from sklearn.metrics import accuracy_score\n",
    "from sklearn.model_selection import GridSearchCV\n",
    "from sklearn.svm import SVC\n",
    "from sklearn.metrics import confusion_matrix\n",
    "\n",
    "from imblearn.over_sampling import SMOTE\n",
    "from imblearn.under_sampling import RandomUnderSampler\n",
    "import random\n",
    "from sklearn.metrics import recall_score\n",
    "\n",
    "from sklearn.preprocessing import StandardScaler\n",
    "from sklearn.ensemble import RandomForestClassifier\n",
    "from imblearn.ensemble import EasyEnsembleClassifier \n",
    "from pprint import pprint\n",
    "from sklearn.model_selection import RandomizedSearchCV"
   ]
  },
  {
   "cell_type": "code",
   "execution_count": 2,
   "id": "e5b43ccd-9b1d-4ebc-b6c3-ed3e5c490a95",
   "metadata": {},
   "outputs": [
    {
     "data": {
      "text/html": [
       "<div>\n",
       "<style scoped>\n",
       "    .dataframe tbody tr th:only-of-type {\n",
       "        vertical-align: middle;\n",
       "    }\n",
       "\n",
       "    .dataframe tbody tr th {\n",
       "        vertical-align: top;\n",
       "    }\n",
       "\n",
       "    .dataframe thead th {\n",
       "        text-align: right;\n",
       "    }\n",
       "</style>\n",
       "<table border=\"1\" class=\"dataframe\">\n",
       "  <thead>\n",
       "    <tr style=\"text-align: right;\">\n",
       "      <th></th>\n",
       "      <th>Unnamed: 0</th>\n",
       "      <th>months_as_customer</th>\n",
       "      <th>age</th>\n",
       "      <th>policy_number</th>\n",
       "      <th>policy_bind_date</th>\n",
       "      <th>policy_state</th>\n",
       "      <th>policy_csl</th>\n",
       "      <th>policy_deductable</th>\n",
       "      <th>policy_annual_premium</th>\n",
       "      <th>umbrella_limit</th>\n",
       "      <th>...</th>\n",
       "      <th>police_report_available</th>\n",
       "      <th>total_claim_amount</th>\n",
       "      <th>injury_claim</th>\n",
       "      <th>property_claim</th>\n",
       "      <th>vehicle_claim</th>\n",
       "      <th>auto_make</th>\n",
       "      <th>auto_model</th>\n",
       "      <th>auto_year</th>\n",
       "      <th>fraud_reported</th>\n",
       "      <th>_c39</th>\n",
       "    </tr>\n",
       "  </thead>\n",
       "  <tbody>\n",
       "    <tr>\n",
       "      <th>0</th>\n",
       "      <td>0</td>\n",
       "      <td>328</td>\n",
       "      <td>48.0</td>\n",
       "      <td>521585</td>\n",
       "      <td>2014-10-17</td>\n",
       "      <td>OH</td>\n",
       "      <td>250/500</td>\n",
       "      <td>1000</td>\n",
       "      <td>1406.91</td>\n",
       "      <td>0.0</td>\n",
       "      <td>...</td>\n",
       "      <td>YES</td>\n",
       "      <td>71610</td>\n",
       "      <td>6510</td>\n",
       "      <td>13020</td>\n",
       "      <td>52080</td>\n",
       "      <td>Saab</td>\n",
       "      <td>92x</td>\n",
       "      <td>2004</td>\n",
       "      <td>Y</td>\n",
       "      <td>NaN</td>\n",
       "    </tr>\n",
       "    <tr>\n",
       "      <th>1</th>\n",
       "      <td>1</td>\n",
       "      <td>228</td>\n",
       "      <td>42.0</td>\n",
       "      <td>342868</td>\n",
       "      <td>2006-06-27</td>\n",
       "      <td>IN</td>\n",
       "      <td>250/500</td>\n",
       "      <td>2000</td>\n",
       "      <td>1197.22</td>\n",
       "      <td>5000000.0</td>\n",
       "      <td>...</td>\n",
       "      <td>?</td>\n",
       "      <td>5070</td>\n",
       "      <td>780</td>\n",
       "      <td>780</td>\n",
       "      <td>3510</td>\n",
       "      <td>Mercedes</td>\n",
       "      <td>E400</td>\n",
       "      <td>2007</td>\n",
       "      <td>Y</td>\n",
       "      <td>NaN</td>\n",
       "    </tr>\n",
       "    <tr>\n",
       "      <th>2</th>\n",
       "      <td>2</td>\n",
       "      <td>134</td>\n",
       "      <td>29.0</td>\n",
       "      <td>687698</td>\n",
       "      <td>2000-09-06</td>\n",
       "      <td>OH</td>\n",
       "      <td>NaN</td>\n",
       "      <td>2000</td>\n",
       "      <td>1413.14</td>\n",
       "      <td>5000000.0</td>\n",
       "      <td>...</td>\n",
       "      <td>NaN</td>\n",
       "      <td>34650</td>\n",
       "      <td>7700</td>\n",
       "      <td>3850</td>\n",
       "      <td>23100</td>\n",
       "      <td>Dodge</td>\n",
       "      <td>RAM</td>\n",
       "      <td>2007</td>\n",
       "      <td>N</td>\n",
       "      <td>NaN</td>\n",
       "    </tr>\n",
       "    <tr>\n",
       "      <th>3</th>\n",
       "      <td>3</td>\n",
       "      <td>256</td>\n",
       "      <td>41.0</td>\n",
       "      <td>227811</td>\n",
       "      <td>1990-05-25</td>\n",
       "      <td>IL</td>\n",
       "      <td>NaN</td>\n",
       "      <td>2000</td>\n",
       "      <td>1415.74</td>\n",
       "      <td>6000000.0</td>\n",
       "      <td>...</td>\n",
       "      <td>NO</td>\n",
       "      <td>63400</td>\n",
       "      <td>6340</td>\n",
       "      <td>6340</td>\n",
       "      <td>50720</td>\n",
       "      <td>Chevrolet</td>\n",
       "      <td>Tahoe</td>\n",
       "      <td>2014</td>\n",
       "      <td>Y</td>\n",
       "      <td>NaN</td>\n",
       "    </tr>\n",
       "    <tr>\n",
       "      <th>4</th>\n",
       "      <td>4</td>\n",
       "      <td>228</td>\n",
       "      <td>44.0</td>\n",
       "      <td>367455</td>\n",
       "      <td>2014-06-06</td>\n",
       "      <td>IL</td>\n",
       "      <td>NaN</td>\n",
       "      <td>1000</td>\n",
       "      <td>1583.91</td>\n",
       "      <td>6000000.0</td>\n",
       "      <td>...</td>\n",
       "      <td>NaN</td>\n",
       "      <td>6500</td>\n",
       "      <td>1300</td>\n",
       "      <td>650</td>\n",
       "      <td>4550</td>\n",
       "      <td>Accura</td>\n",
       "      <td>RSX</td>\n",
       "      <td>2009</td>\n",
       "      <td>N</td>\n",
       "      <td>NaN</td>\n",
       "    </tr>\n",
       "  </tbody>\n",
       "</table>\n",
       "<p>5 rows × 41 columns</p>\n",
       "</div>"
      ],
      "text/plain": [
       "   Unnamed: 0  months_as_customer   age  policy_number policy_bind_date  \\\n",
       "0           0                 328  48.0         521585       2014-10-17   \n",
       "1           1                 228  42.0         342868       2006-06-27   \n",
       "2           2                 134  29.0         687698       2000-09-06   \n",
       "3           3                 256  41.0         227811       1990-05-25   \n",
       "4           4                 228  44.0         367455       2014-06-06   \n",
       "\n",
       "  policy_state policy_csl  policy_deductable  policy_annual_premium  \\\n",
       "0           OH    250/500               1000                1406.91   \n",
       "1           IN    250/500               2000                1197.22   \n",
       "2           OH        NaN               2000                1413.14   \n",
       "3           IL        NaN               2000                1415.74   \n",
       "4           IL        NaN               1000                1583.91   \n",
       "\n",
       "   umbrella_limit  ...  police_report_available total_claim_amount  \\\n",
       "0             0.0  ...                      YES              71610   \n",
       "1       5000000.0  ...                        ?               5070   \n",
       "2       5000000.0  ...                      NaN              34650   \n",
       "3       6000000.0  ...                       NO              63400   \n",
       "4       6000000.0  ...                      NaN               6500   \n",
       "\n",
       "  injury_claim property_claim vehicle_claim  auto_make  auto_model  auto_year  \\\n",
       "0         6510          13020         52080       Saab         92x       2004   \n",
       "1          780            780          3510   Mercedes        E400       2007   \n",
       "2         7700           3850         23100      Dodge         RAM       2007   \n",
       "3         6340           6340         50720  Chevrolet       Tahoe       2014   \n",
       "4         1300            650          4550     Accura         RSX       2009   \n",
       "\n",
       "  fraud_reported _c39  \n",
       "0              Y  NaN  \n",
       "1              Y  NaN  \n",
       "2              N  NaN  \n",
       "3              Y  NaN  \n",
       "4              N  NaN  \n",
       "\n",
       "[5 rows x 41 columns]"
      ]
     },
     "metadata": {},
     "output_type": "display_data"
    },
    {
     "name": "stdout",
     "output_type": "stream",
     "text": [
      "\n",
      "\n",
      "Dataframe shape :  (1000, 41)\n",
      "\n",
      "\n",
      "<class 'pandas.core.frame.DataFrame'>\n",
      "RangeIndex: 1000 entries, 0 to 999\n",
      "Data columns (total 41 columns):\n",
      " #   Column                       Non-Null Count  Dtype  \n",
      "---  ------                       --------------  -----  \n",
      " 0   Unnamed: 0                   1000 non-null   int64  \n",
      " 1   months_as_customer           1000 non-null   int64  \n",
      " 2   age                          865 non-null    float64\n",
      " 3   policy_number                1000 non-null   int64  \n",
      " 4   policy_bind_date             1000 non-null   object \n",
      " 5   policy_state                 1000 non-null   object \n",
      " 6   policy_csl                   127 non-null    object \n",
      " 7   policy_deductable            1000 non-null   int64  \n",
      " 8   policy_annual_premium        1000 non-null   float64\n",
      " 9   umbrella_limit               802 non-null    float64\n",
      " 10  insured_zip                  1000 non-null   int64  \n",
      " 11  insured_sex                  1000 non-null   object \n",
      " 12  insured_education_level      1000 non-null   object \n",
      " 13  insured_occupation           1000 non-null   object \n",
      " 14  insured_hobbies              1000 non-null   object \n",
      " 15  insured_relationship         1000 non-null   object \n",
      " 16  capital-gains                1000 non-null   int64  \n",
      " 17  capital-loss                 1000 non-null   int64  \n",
      " 18  incident_date                1000 non-null   object \n",
      " 19  incident_type                1000 non-null   object \n",
      " 20  collision_type               1000 non-null   object \n",
      " 21  incident_severity            1000 non-null   object \n",
      " 22  authorities_contacted        1000 non-null   object \n",
      " 23  incident_state               1000 non-null   object \n",
      " 24  incident_city                1000 non-null   object \n",
      " 25  incident_location            1000 non-null   object \n",
      " 26  incident_hour_of_the_day     1000 non-null   int64  \n",
      " 27  number_of_vehicles_involved  1000 non-null   int64  \n",
      " 28  property_damage              1000 non-null   object \n",
      " 29  bodily_injuries              1000 non-null   int64  \n",
      " 30  witnesses                    1000 non-null   int64  \n",
      " 31  police_report_available      750 non-null    object \n",
      " 32  total_claim_amount           1000 non-null   int64  \n",
      " 33  injury_claim                 1000 non-null   int64  \n",
      " 34  property_claim               1000 non-null   int64  \n",
      " 35  vehicle_claim                1000 non-null   int64  \n",
      " 36  auto_make                    1000 non-null   object \n",
      " 37  auto_model                   1000 non-null   object \n",
      " 38  auto_year                    1000 non-null   int64  \n",
      " 39  fraud_reported               1000 non-null   object \n",
      " 40  _c39                         0 non-null      float64\n",
      "dtypes: float64(4), int64(16), object(21)\n",
      "memory usage: 320.4+ KB\n"
     ]
    },
    {
     "data": {
      "text/plain": [
       "None"
      ]
     },
     "metadata": {},
     "output_type": "display_data"
    },
    {
     "name": "stdout",
     "output_type": "stream",
     "text": [
      "\n",
      "\n",
      "fraud_reported count: \n",
      "\n",
      "\n",
      "N    753\n",
      "Y    247\n",
      "Name: fraud_reported, dtype: int64\n"
     ]
    }
   ],
   "source": [
    "data = pd.read_csv('auto_insurance_csv.csv')\n",
    "df = data.copy()\n",
    "\n",
    "\n",
    "display(df.head())\n",
    "\n",
    "print(\"\\n\")\n",
    "print(\"Dataframe shape : \",df.shape)\n",
    "print(\"\\n\")\n",
    "\n",
    "display(df.info())\n",
    "\n",
    "print(\"\\n\")\n",
    "\n",
    "print(\"fraud_reported count: \")\n",
    "print(\"\\n\")\n",
    "\n",
    "print(df.fraud_reported.value_counts())"
   ]
  },
  {
   "cell_type": "code",
   "execution_count": 3,
   "id": "09d706d4-0515-4847-89c0-8ea8e9b990c6",
   "metadata": {},
   "outputs": [
    {
     "data": {
      "text/html": [
       "<div>\n",
       "<style scoped>\n",
       "    .dataframe tbody tr th:only-of-type {\n",
       "        vertical-align: middle;\n",
       "    }\n",
       "\n",
       "    .dataframe tbody tr th {\n",
       "        vertical-align: top;\n",
       "    }\n",
       "\n",
       "    .dataframe thead th {\n",
       "        text-align: right;\n",
       "    }\n",
       "</style>\n",
       "<table border=\"1\" class=\"dataframe\">\n",
       "  <thead>\n",
       "    <tr style=\"text-align: right;\">\n",
       "      <th></th>\n",
       "      <th>Unnamed: 0</th>\n",
       "      <th>months_as_customer</th>\n",
       "      <th>age</th>\n",
       "      <th>policy_number</th>\n",
       "      <th>policy_deductable</th>\n",
       "      <th>policy_annual_premium</th>\n",
       "      <th>umbrella_limit</th>\n",
       "      <th>insured_zip</th>\n",
       "      <th>capital-gains</th>\n",
       "      <th>capital-loss</th>\n",
       "      <th>incident_hour_of_the_day</th>\n",
       "      <th>number_of_vehicles_involved</th>\n",
       "      <th>bodily_injuries</th>\n",
       "      <th>witnesses</th>\n",
       "      <th>total_claim_amount</th>\n",
       "      <th>injury_claim</th>\n",
       "      <th>property_claim</th>\n",
       "      <th>vehicle_claim</th>\n",
       "      <th>auto_year</th>\n",
       "      <th>_c39</th>\n",
       "    </tr>\n",
       "  </thead>\n",
       "  <tbody>\n",
       "    <tr>\n",
       "      <th>count</th>\n",
       "      <td>1000.000000</td>\n",
       "      <td>1000.000000</td>\n",
       "      <td>865.000000</td>\n",
       "      <td>1000.000000</td>\n",
       "      <td>1000.000000</td>\n",
       "      <td>1000.000000</td>\n",
       "      <td>8.020000e+02</td>\n",
       "      <td>1000.000000</td>\n",
       "      <td>1000.000000</td>\n",
       "      <td>1000.000000</td>\n",
       "      <td>1000.000000</td>\n",
       "      <td>1000.00000</td>\n",
       "      <td>1000.000000</td>\n",
       "      <td>1000.000000</td>\n",
       "      <td>1000.00000</td>\n",
       "      <td>1000.000000</td>\n",
       "      <td>1000.000000</td>\n",
       "      <td>1000.000000</td>\n",
       "      <td>1000.000000</td>\n",
       "      <td>0.0</td>\n",
       "    </tr>\n",
       "    <tr>\n",
       "      <th>mean</th>\n",
       "      <td>499.500000</td>\n",
       "      <td>203.954000</td>\n",
       "      <td>38.812717</td>\n",
       "      <td>546238.648000</td>\n",
       "      <td>1136.000000</td>\n",
       "      <td>1256.406150</td>\n",
       "      <td>1.103491e+06</td>\n",
       "      <td>501214.488000</td>\n",
       "      <td>25126.100000</td>\n",
       "      <td>-26793.700000</td>\n",
       "      <td>11.644000</td>\n",
       "      <td>1.83900</td>\n",
       "      <td>0.992000</td>\n",
       "      <td>1.487000</td>\n",
       "      <td>52761.94000</td>\n",
       "      <td>7433.420000</td>\n",
       "      <td>7399.570000</td>\n",
       "      <td>37928.950000</td>\n",
       "      <td>2005.103000</td>\n",
       "      <td>NaN</td>\n",
       "    </tr>\n",
       "    <tr>\n",
       "      <th>std</th>\n",
       "      <td>288.819436</td>\n",
       "      <td>115.113174</td>\n",
       "      <td>9.123361</td>\n",
       "      <td>257063.005276</td>\n",
       "      <td>611.864673</td>\n",
       "      <td>244.167395</td>\n",
       "      <td>2.299218e+06</td>\n",
       "      <td>71701.610941</td>\n",
       "      <td>27872.187708</td>\n",
       "      <td>28104.096686</td>\n",
       "      <td>6.951373</td>\n",
       "      <td>1.01888</td>\n",
       "      <td>0.820127</td>\n",
       "      <td>1.111335</td>\n",
       "      <td>26401.53319</td>\n",
       "      <td>4880.951853</td>\n",
       "      <td>4824.726179</td>\n",
       "      <td>18886.252893</td>\n",
       "      <td>6.015861</td>\n",
       "      <td>NaN</td>\n",
       "    </tr>\n",
       "    <tr>\n",
       "      <th>min</th>\n",
       "      <td>0.000000</td>\n",
       "      <td>0.000000</td>\n",
       "      <td>19.000000</td>\n",
       "      <td>100804.000000</td>\n",
       "      <td>500.000000</td>\n",
       "      <td>433.330000</td>\n",
       "      <td>-1.000000e+06</td>\n",
       "      <td>430104.000000</td>\n",
       "      <td>0.000000</td>\n",
       "      <td>-111100.000000</td>\n",
       "      <td>0.000000</td>\n",
       "      <td>1.00000</td>\n",
       "      <td>0.000000</td>\n",
       "      <td>0.000000</td>\n",
       "      <td>100.00000</td>\n",
       "      <td>0.000000</td>\n",
       "      <td>0.000000</td>\n",
       "      <td>70.000000</td>\n",
       "      <td>1995.000000</td>\n",
       "      <td>NaN</td>\n",
       "    </tr>\n",
       "    <tr>\n",
       "      <th>25%</th>\n",
       "      <td>249.750000</td>\n",
       "      <td>115.750000</td>\n",
       "      <td>32.000000</td>\n",
       "      <td>335980.250000</td>\n",
       "      <td>500.000000</td>\n",
       "      <td>1089.607500</td>\n",
       "      <td>0.000000e+00</td>\n",
       "      <td>448404.500000</td>\n",
       "      <td>0.000000</td>\n",
       "      <td>-51500.000000</td>\n",
       "      <td>6.000000</td>\n",
       "      <td>1.00000</td>\n",
       "      <td>0.000000</td>\n",
       "      <td>1.000000</td>\n",
       "      <td>41812.50000</td>\n",
       "      <td>4295.000000</td>\n",
       "      <td>4445.000000</td>\n",
       "      <td>30292.500000</td>\n",
       "      <td>2000.000000</td>\n",
       "      <td>NaN</td>\n",
       "    </tr>\n",
       "    <tr>\n",
       "      <th>50%</th>\n",
       "      <td>499.500000</td>\n",
       "      <td>199.500000</td>\n",
       "      <td>38.000000</td>\n",
       "      <td>533135.000000</td>\n",
       "      <td>1000.000000</td>\n",
       "      <td>1257.200000</td>\n",
       "      <td>0.000000e+00</td>\n",
       "      <td>466445.500000</td>\n",
       "      <td>0.000000</td>\n",
       "      <td>-23250.000000</td>\n",
       "      <td>12.000000</td>\n",
       "      <td>1.00000</td>\n",
       "      <td>1.000000</td>\n",
       "      <td>1.000000</td>\n",
       "      <td>58055.00000</td>\n",
       "      <td>6775.000000</td>\n",
       "      <td>6750.000000</td>\n",
       "      <td>42100.000000</td>\n",
       "      <td>2005.000000</td>\n",
       "      <td>NaN</td>\n",
       "    </tr>\n",
       "    <tr>\n",
       "      <th>75%</th>\n",
       "      <td>749.250000</td>\n",
       "      <td>276.250000</td>\n",
       "      <td>44.000000</td>\n",
       "      <td>759099.750000</td>\n",
       "      <td>2000.000000</td>\n",
       "      <td>1415.695000</td>\n",
       "      <td>0.000000e+00</td>\n",
       "      <td>603251.000000</td>\n",
       "      <td>51025.000000</td>\n",
       "      <td>0.000000</td>\n",
       "      <td>17.000000</td>\n",
       "      <td>3.00000</td>\n",
       "      <td>2.000000</td>\n",
       "      <td>2.000000</td>\n",
       "      <td>70592.50000</td>\n",
       "      <td>11305.000000</td>\n",
       "      <td>10885.000000</td>\n",
       "      <td>50822.500000</td>\n",
       "      <td>2010.000000</td>\n",
       "      <td>NaN</td>\n",
       "    </tr>\n",
       "    <tr>\n",
       "      <th>max</th>\n",
       "      <td>999.000000</td>\n",
       "      <td>479.000000</td>\n",
       "      <td>64.000000</td>\n",
       "      <td>999435.000000</td>\n",
       "      <td>2000.000000</td>\n",
       "      <td>2047.590000</td>\n",
       "      <td>9.000000e+06</td>\n",
       "      <td>620962.000000</td>\n",
       "      <td>100500.000000</td>\n",
       "      <td>0.000000</td>\n",
       "      <td>23.000000</td>\n",
       "      <td>4.00000</td>\n",
       "      <td>2.000000</td>\n",
       "      <td>3.000000</td>\n",
       "      <td>114920.00000</td>\n",
       "      <td>21450.000000</td>\n",
       "      <td>23670.000000</td>\n",
       "      <td>79560.000000</td>\n",
       "      <td>2015.000000</td>\n",
       "      <td>NaN</td>\n",
       "    </tr>\n",
       "  </tbody>\n",
       "</table>\n",
       "</div>"
      ],
      "text/plain": [
       "        Unnamed: 0  months_as_customer         age  policy_number  \\\n",
       "count  1000.000000         1000.000000  865.000000    1000.000000   \n",
       "mean    499.500000          203.954000   38.812717  546238.648000   \n",
       "std     288.819436          115.113174    9.123361  257063.005276   \n",
       "min       0.000000            0.000000   19.000000  100804.000000   \n",
       "25%     249.750000          115.750000   32.000000  335980.250000   \n",
       "50%     499.500000          199.500000   38.000000  533135.000000   \n",
       "75%     749.250000          276.250000   44.000000  759099.750000   \n",
       "max     999.000000          479.000000   64.000000  999435.000000   \n",
       "\n",
       "       policy_deductable  policy_annual_premium  umbrella_limit  \\\n",
       "count        1000.000000            1000.000000    8.020000e+02   \n",
       "mean         1136.000000            1256.406150    1.103491e+06   \n",
       "std           611.864673             244.167395    2.299218e+06   \n",
       "min           500.000000             433.330000   -1.000000e+06   \n",
       "25%           500.000000            1089.607500    0.000000e+00   \n",
       "50%          1000.000000            1257.200000    0.000000e+00   \n",
       "75%          2000.000000            1415.695000    0.000000e+00   \n",
       "max          2000.000000            2047.590000    9.000000e+06   \n",
       "\n",
       "         insured_zip  capital-gains   capital-loss  incident_hour_of_the_day  \\\n",
       "count    1000.000000    1000.000000    1000.000000               1000.000000   \n",
       "mean   501214.488000   25126.100000  -26793.700000                 11.644000   \n",
       "std     71701.610941   27872.187708   28104.096686                  6.951373   \n",
       "min    430104.000000       0.000000 -111100.000000                  0.000000   \n",
       "25%    448404.500000       0.000000  -51500.000000                  6.000000   \n",
       "50%    466445.500000       0.000000  -23250.000000                 12.000000   \n",
       "75%    603251.000000   51025.000000       0.000000                 17.000000   \n",
       "max    620962.000000  100500.000000       0.000000                 23.000000   \n",
       "\n",
       "       number_of_vehicles_involved  bodily_injuries    witnesses  \\\n",
       "count                   1000.00000      1000.000000  1000.000000   \n",
       "mean                       1.83900         0.992000     1.487000   \n",
       "std                        1.01888         0.820127     1.111335   \n",
       "min                        1.00000         0.000000     0.000000   \n",
       "25%                        1.00000         0.000000     1.000000   \n",
       "50%                        1.00000         1.000000     1.000000   \n",
       "75%                        3.00000         2.000000     2.000000   \n",
       "max                        4.00000         2.000000     3.000000   \n",
       "\n",
       "       total_claim_amount  injury_claim  property_claim  vehicle_claim  \\\n",
       "count          1000.00000   1000.000000     1000.000000    1000.000000   \n",
       "mean          52761.94000   7433.420000     7399.570000   37928.950000   \n",
       "std           26401.53319   4880.951853     4824.726179   18886.252893   \n",
       "min             100.00000      0.000000        0.000000      70.000000   \n",
       "25%           41812.50000   4295.000000     4445.000000   30292.500000   \n",
       "50%           58055.00000   6775.000000     6750.000000   42100.000000   \n",
       "75%           70592.50000  11305.000000    10885.000000   50822.500000   \n",
       "max          114920.00000  21450.000000    23670.000000   79560.000000   \n",
       "\n",
       "         auto_year  _c39  \n",
       "count  1000.000000   0.0  \n",
       "mean   2005.103000   NaN  \n",
       "std       6.015861   NaN  \n",
       "min    1995.000000   NaN  \n",
       "25%    2000.000000   NaN  \n",
       "50%    2005.000000   NaN  \n",
       "75%    2010.000000   NaN  \n",
       "max    2015.000000   NaN  "
      ]
     },
     "execution_count": 3,
     "metadata": {},
     "output_type": "execute_result"
    }
   ],
   "source": [
    "df.describe()\n"
   ]
  },
  {
   "cell_type": "code",
   "execution_count": 4,
   "id": "f70b7e38-46cd-41e0-96d0-9cb4f8956265",
   "metadata": {},
   "outputs": [
    {
     "name": "stdout",
     "output_type": "stream",
     "text": [
      "policy_bind_date : 951\n",
      "policy_state : 3\n",
      "policy_csl : 3\n",
      "insured_sex : 2\n",
      "insured_education_level : 7\n",
      "insured_occupation : 14\n",
      "insured_hobbies : 20\n",
      "insured_relationship : 6\n",
      "incident_date : 60\n",
      "incident_type : 4\n",
      "collision_type : 4\n",
      "incident_severity : 4\n",
      "authorities_contacted : 5\n",
      "incident_state : 7\n",
      "incident_city : 7\n",
      "incident_location : 1000\n",
      "property_damage : 3\n",
      "police_report_available : 3\n",
      "auto_make : 14\n",
      "auto_model : 39\n",
      "fraud_reported : 2\n"
     ]
    }
   ],
   "source": [
    "for i in df.columns:\n",
    "    if df[i].dtype == 'object':\n",
    "        print(i, \":\", df[i].nunique())"
   ]
  },
  {
   "cell_type": "code",
   "execution_count": 5,
   "id": "55c30c79-c1db-460d-9d75-02d8d4290a20",
   "metadata": {
    "tags": []
   },
   "outputs": [],
   "source": [
    "# fraud_reported kolonu ile gruplayıp ilgili yaşların ortalamasıyla boş olan değerlerin doldurulması: \n",
    "\n",
    "df[\"age\"] = df.groupby(['fraud_reported'])['age'].apply(lambda x: round(x.fillna(x.mean())))\n",
    "\n",
    "bin_labels_age = ['15-20', '21-25', '26-30', '31-35', '36-40', '41-45', '46-50', '51-55', '56-60', '61-65']\n",
    "bins = [15, 20, 25, 30, 35, 40, 45, 50, 55, 60, 65]\n",
    "df['age_group'] = pd.cut(df['age'], bins = bins, labels = bin_labels_age, include_lowest = True)\n",
    "\n",
    "# policy_csl değişkenindeki boş alanlar \"missing\" string'i ile doldurulması :\n",
    "\n",
    "df['policy_csl'] = df.policy_csl.fillna(\"MISSING\")\n",
    "\n",
    "# umbrella_limit değişkenindeki 0.0 olan alanlar \"NO\" , \n",
    "# sıfırdan farklı sayısal bir veri içeren alanlara \"YES\" ,\n",
    "# son olarak eksik verilerin \"missing\" string'i ile doldurulması : \n",
    "\n",
    "df['umbrella_limit'] = df.umbrella_limit.fillna(\"MISSING\")\n",
    "df['umbrella_limit'] = df['umbrella_limit'].replace(0.0, 'NO')\n",
    "\n",
    "for i in df['umbrella_limit'].unique():\n",
    "    if (i != 'MISSING') & (i != 'NO'):\n",
    "        df['umbrella_limit'] = df['umbrella_limit'].replace(i, 'YES')\n",
    "        \n",
    "# police_report_available değişkenindeki boş satırlar \"missing\" string'i ile doldurulması :\n",
    "\n",
    "df['police_report_available'] = df.police_report_available.fillna(\"MISSING\")\n",
    "\n",
    "# policy_bind_date ve incident_date değişkenlerinin datetime'a çevrilmesi, \n",
    "# ilgili değişkenlerin birbirlerinden çıkartılarak \"claim_day_of_policy\" adında yeni bir kolon oluşturulması: \n",
    "\n",
    "df['policy_bind_date'] = pd.to_datetime(df['policy_bind_date'])\n",
    "df['incident_date'] = pd.to_datetime(df['incident_date'])\n",
    "df['claim_day_of_policy'] = (df.incident_date -  df.policy_bind_date).dt.days\n",
    "\n",
    "# insured_hobbies kolonunda \"chess\" ve \"cross-fit\" dışındaki veriler \"other\" kategorisine çekilmesi : \n",
    "\n",
    "hobbies = df['insured_hobbies'].unique()\n",
    "for hobby in hobbies:\n",
    "  if (hobby != 'chess') & (hobby != 'cross-fit'):\n",
    "    df['insured_hobbies'] = df['insured_hobbies'].str.replace(hobby, 'other')\n",
    "    \n",
    "# kazanın yaşandığı yer ile poliçenin düzenlendiği yer aynı mıdır kontrolünün yapılması ve \"location_check\" adlı bir değişken oluşturulması : \n",
    "df['location_check'] = np.nan\n",
    "df['location_check'] = np.where(df['policy_state'] == df['incident_state'], True, False)\n",
    "    \n",
    "\n",
    "# analizlerin yapıldığı yaklaşık tarih olarak \"2016\" baz yılı alınarak araç yaşı(\"vehicle_age\") değişkeninin oluşturulması : \n",
    "\n",
    "df['vehicle_age'] = 2016 - df['auto_year']"
   ]
  },
  {
   "cell_type": "code",
   "execution_count": 6,
   "id": "16aabef3-ed9d-445a-9936-62f0e37e8c45",
   "metadata": {},
   "outputs": [],
   "source": [
    "# gruplama işlemleri : \n",
    "\n",
    "bins_papg = list(np.linspace(0,2500, 6, dtype = int))\n",
    "bin_labels_papg = ['very low', 'low', 'medium', 'high', 'very high']\n",
    "df['policy_annual_premium_groups'] = pd.cut(df['policy_annual_premium'], bins = bins_papg, labels=bin_labels_papg)\n",
    "\n",
    "\n",
    "bins_macg = [0, 50, 100, 150, 200, 250, 300, 350, 400, 450, 500]\n",
    "bin_labels_macg = ['0-50','51-100','101-150','151-200','201-250','251-300','301-350','351-400','401-450','451-500']\n",
    "df['months_as_customer_groups'] = pd.cut(df['months_as_customer'], bins = bins_macg, labels = bin_labels_macg, include_lowest= True)\n",
    "\n",
    "bins_pdg = list(np.linspace(0,2000, 5, dtype = int))\n",
    "bin_labels_pdg = ['0-500', '501-1000', '1001-1500', '1501-2000']\n",
    "df['policy_deductable_group'] = pd.cut(df['policy_deductable'], bins = bins_pdg, labels = bin_labels_pdg)\n",
    "\n",
    "# hedef değişkenin 0 ve 1 olarak dönüştürülmesi : \n",
    "\n",
    "df['fraud_reported'] = df['fraud_reported'].replace(('Y','N'),(0,1))\n",
    "\n",
    "# gereksiz kolonların veri setimizden çıkartılması : \n",
    "\n",
    "df = df.drop(['_c39','Unnamed: 0','age','policy_bind_date','incident_date',\n",
    "              'policy_number','incident_location','auto_model','insured_zip',\"auto_year\",\"vehicle_age\"], axis = 1)"
   ]
  },
  {
   "cell_type": "code",
   "execution_count": 7,
   "id": "a04273ed-c9b1-4ed0-ae4d-3a37d3cab89b",
   "metadata": {},
   "outputs": [
    {
     "data": {
      "text/plain": [
       "(1000, 37)"
      ]
     },
     "execution_count": 7,
     "metadata": {},
     "output_type": "execute_result"
    }
   ],
   "source": [
    "df.shape "
   ]
  },
  {
   "cell_type": "code",
   "execution_count": 8,
   "id": "5c34018d-e238-4a6a-9f12-b17c2d78adbc",
   "metadata": {},
   "outputs": [
    {
     "data": {
      "text/plain": [
       "months_as_customer              0\n",
       "policy_state                    0\n",
       "policy_csl                      0\n",
       "policy_deductable               0\n",
       "policy_annual_premium           0\n",
       "umbrella_limit                  0\n",
       "insured_sex                     0\n",
       "insured_education_level         0\n",
       "insured_occupation              0\n",
       "insured_hobbies                 0\n",
       "insured_relationship            0\n",
       "capital-gains                   0\n",
       "capital-loss                    0\n",
       "incident_type                   0\n",
       "collision_type                  0\n",
       "incident_severity               0\n",
       "authorities_contacted           0\n",
       "incident_state                  0\n",
       "incident_city                   0\n",
       "incident_hour_of_the_day        0\n",
       "number_of_vehicles_involved     0\n",
       "property_damage                 0\n",
       "bodily_injuries                 0\n",
       "witnesses                       0\n",
       "police_report_available         0\n",
       "total_claim_amount              0\n",
       "injury_claim                    0\n",
       "property_claim                  0\n",
       "vehicle_claim                   0\n",
       "auto_make                       0\n",
       "fraud_reported                  0\n",
       "age_group                       0\n",
       "claim_day_of_policy             0\n",
       "location_check                  0\n",
       "policy_annual_premium_groups    0\n",
       "months_as_customer_groups       0\n",
       "policy_deductable_group         0\n",
       "dtype: int64"
      ]
     },
     "execution_count": 8,
     "metadata": {},
     "output_type": "execute_result"
    }
   ],
   "source": [
    "df.isnull().sum()"
   ]
  },
  {
   "cell_type": "code",
   "execution_count": 9,
   "id": "743b4cf4-56ce-40ea-839d-4a0fd6e804e9",
   "metadata": {
    "tags": []
   },
   "outputs": [
    {
     "data": {
      "image/png": "[encoded data removed]",
      "text/plain": [
       "<Figure size 1224x648 with 2 Axes>"
      ]
     },
     "metadata": {
      "needs_background": "light"
     },
     "output_type": "display_data"
    }
   ],
   "source": [
    "corr = df.corr()\n",
    "plt.figure(figsize = (17, 9))\n",
    "sns.heatmap(data = corr, annot = True, linewidth = 1)\n",
    "plt.show()"
   ]
  },
  {
   "cell_type": "markdown",
   "id": "33ef214b-1bab-4051-a7bd-9cc21fb4c9ab",
   "metadata": {},
   "source": [
    "####  Korelasyon matrisinden,  `vehicle claim` , `total_claim_amount` , `property_claim` ve `injury_claim` arasında yüksek bir korelasyon olduğunu görmekteyiz. \n",
    "#### Çünkü total_claim_amount `vehicle claim`,`property_claim` ve `injury_claim` sütunlarının toplamını vermektedir.\n",
    "\n",
    "#### total_claim_amount bilgilerini elde edip geriye kalan 3 değişken veri setimizden çıkarılacaktır. "
   ]
  },
  {
   "cell_type": "code",
   "execution_count": 10,
   "id": "1cd977b2-ce4d-4b23-bd95-47d35c96fad0",
   "metadata": {},
   "outputs": [],
   "source": [
    "df = df.drop(['vehicle_claim', 'property_claim', 'injury_claim'], axis = 1)\n"
   ]
  },
  {
   "cell_type": "code",
   "execution_count": 11,
   "id": "7ac8a8c3-cf78-4c7e-b4f9-f74726d5d3aa",
   "metadata": {},
   "outputs": [
    {
     "data": {
      "text/plain": [
       "['policy_state',\n",
       " 'policy_csl',\n",
       " 'umbrella_limit',\n",
       " 'insured_sex',\n",
       " 'insured_education_level',\n",
       " 'insured_occupation',\n",
       " 'insured_hobbies',\n",
       " 'insured_relationship',\n",
       " 'incident_type',\n",
       " 'collision_type',\n",
       " 'incident_severity',\n",
       " 'authorities_contacted',\n",
       " 'incident_state',\n",
       " 'incident_city',\n",
       " 'property_damage',\n",
       " 'police_report_available',\n",
       " 'auto_make',\n",
       " 'age_group',\n",
       " 'location_check',\n",
       " 'policy_annual_premium_groups',\n",
       " 'months_as_customer_groups',\n",
       " 'policy_deductable_group']"
      ]
     },
     "execution_count": 11,
     "metadata": {},
     "output_type": "execute_result"
    }
   ],
   "source": [
    "# encode edilecek kolonların \"columns_to_encode\" değişkenine atanması :\n",
    "\n",
    "cat_cols = ['age_group', 'months_as_customer_groups', 'policy_annual_premium_groups','location_check','policy_deductable_group']\n",
    "\n",
    "for col in cat_cols:\n",
    "    df[col] = df[col].astype('object')\n",
    "\n",
    "columns_to_encode = []\n",
    "for col in df.columns:\n",
    "    if df[col].dtype == 'object':\n",
    "        columns_to_encode.append(col)\n",
    "\n",
    "columns_to_encode"
   ]
  },
  {
   "cell_type": "code",
   "execution_count": 12,
   "id": "1785fd94-0785-4e24-9921-4f6d0bfb4654",
   "metadata": {},
   "outputs": [],
   "source": [
    "# hedef değişken ve geriye kalan bağımsız değişkenleri ayırma : \n",
    "\n",
    "y = df.fraud_reported\n",
    "X = df.drop('fraud_reported', axis=1)"
   ]
  },
  {
   "cell_type": "markdown",
   "id": "bf30b7d5-bf8d-4302-a48a-db1255e9e759",
   "metadata": {},
   "source": [
    "## Veri Setinin Test ve Eğitim Seti Olarak Ayrıştırılması\n",
    "\n",
    "Bu aşamada uygulanacak işlemlerden önce veri seti TEST ve EĞİTİM seti olarak ikiye ayrılmalıdır. Gerçek bir case çalışmasında bu şekilde ilerlemek daha doğru sonuçlar üretmenizi sağlar. Veri seti ayrıştırılmadan yapılan işlemler \"data leakage\" olarak bilinen sorunlara yol açabilir."
   ]
  },
  {
   "cell_type": "code",
   "execution_count": 13,
   "id": "685174c0-bce7-4b00-a9b5-240899c019a1",
   "metadata": {},
   "outputs": [
    {
     "data": {
      "text/plain": [
       "(800, 33)"
      ]
     },
     "metadata": {},
     "output_type": "display_data"
    },
    {
     "data": {
      "text/plain": [
       "(200, 33)"
      ]
     },
     "metadata": {},
     "output_type": "display_data"
    }
   ],
   "source": [
    "# veri setinin test-train seti olarak ikiye ayrılması :\n",
    "\n",
    "X_train, X_test, y_train, y_test = train_test_split(X, y, test_size=0.2, random_state=37)\n",
    "\n",
    "display(X_train.shape)\n",
    "display(X_test.shape)"
   ]
  },
  {
   "cell_type": "code",
   "execution_count": 15,
   "id": "28b14bf7-701d-4004-9f68-607ce2dc446e",
   "metadata": {},
   "outputs": [
    {
     "name": "stdout",
     "output_type": "stream",
     "text": [
      "(800, 135)\n",
      "(200, 133)\n"
     ]
    }
   ],
   "source": [
    "# train test ayrımından sonra belirlenen kolonlara one hot encode uyguluyoruz :\n",
    "\n",
    "X_train_encode = pd.get_dummies(X_train, columns = columns_to_encode)\n",
    "X_test_encode = pd.get_dummies(X_test, columns = columns_to_encode)\n",
    "\n",
    "print(X_train_encode.shape)\n",
    "print(X_test_encode.shape)"
   ]
  },
  {
   "cell_type": "code",
   "execution_count": 16,
   "id": "ce5242c0-c057-48a7-9020-2676b5fa4e37",
   "metadata": {},
   "outputs": [],
   "source": [
    "# X_test_encode ve X_train_encode değişkenlerindeki encode işleminden sonra yaşanan eşitsizliği ortadan kaldırmak için \"reindex\" kullandım : \n",
    "\n",
    "X_test_encode = X_test_encode.reindex(columns = X_test_encode.columns, fill_value=0)"
   ]
  },
  {
   "cell_type": "code",
   "execution_count": 17,
   "id": "98dd836e-b6b9-45a2-b40f-b521c85cf29b",
   "metadata": {},
   "outputs": [
    {
     "name": "stdout",
     "output_type": "stream",
     "text": [
      "(800, 135)\n",
      "(200, 133)\n"
     ]
    }
   ],
   "source": [
    "# Tekrar kontrol edelim :\n",
    "\n",
    "print(X_train_encode.shape)\n",
    "print(X_test_encode.shape)"
   ]
  },
  {
   "cell_type": "markdown",
   "id": "318466d6-ed40-4911-9468-cdbc3574e0c7",
   "metadata": {},
   "source": [
    "## Scale (Ölçeklendirme) Aşaması "
   ]
  },
  {
   "cell_type": "code",
   "execution_count": 18,
   "id": "71ba8bc0-27e9-4b47-809e-ec6757341e1a",
   "metadata": {},
   "outputs": [],
   "source": [
    "sc = StandardScaler()\n",
    "X_train_encode_sc = sc.fit_transform(X_train_encode)\n",
    "X_test_encode_sc = sc.fit_transform(X_test_encode)"
   ]
  },
  {
   "cell_type": "markdown",
   "id": "85eae9a7-d7f1-4ab4-a8b2-2b09a87c36a8",
   "metadata": {},
   "source": [
    "## SMOTE Aşaması\n",
    "\n",
    "Burda önemli olan nokta, oversampling işlemini sadece eğitim verileri üzerinde yapmak."
   ]
  },
  {
   "cell_type": "code",
   "execution_count": 19,
   "id": "912d4749-ec49-4482-aa0e-9cebf87414ba",
   "metadata": {},
   "outputs": [],
   "source": [
    "sm = SMOTE(random_state=12, sampling_strategy = 1.0)\n",
    "x_train_over, y_train_over = sm.fit_resample(X_train_encode_sc, y_train)"
   ]
  },
  {
   "cell_type": "code",
   "execution_count": 20,
   "id": "0eb6c733-5c1c-4b2e-8c2e-4c8fc5c23329",
   "metadata": {},
   "outputs": [
    {
     "name": "stderr",
     "output_type": "stream",
     "text": [
      "/home/merve/notebook/.venv/lib/python3.8/site-packages/seaborn/_decorators.py:36: FutureWarning: Pass the following variable as a keyword arg: x. From version 0.12, the only valid positional argument will be `data`, and passing other arguments without an explicit keyword will result in an error or misinterpretation.\n",
      "  warnings.warn(\n"
     ]
    },
    {
     "data": {
      "text/plain": [
       "<AxesSubplot:xlabel='fraud_reported', ylabel='count'>"
      ]
     },
     "execution_count": 20,
     "metadata": {},
     "output_type": "execute_result"
    },
    {
     "data": {
      "image/png": "[encoded data removed]",
      "text/plain": [
       "<Figure size 432x288 with 1 Axes>"
      ]
     },
     "metadata": {
      "needs_background": "light"
     },
     "output_type": "display_data"
    }
   ],
   "source": [
    "# oversampling öncesi y_train: \n",
    "\n",
    "chck = pd.DataFrame()\n",
    "chck['fraud_reported'] = y_train\n",
    "\n",
    "sns.countplot(chck['fraud_reported'])"
   ]
  },
  {
   "cell_type": "code",
   "execution_count": 21,
   "id": "0a7a5c6a-762e-4151-b58c-7d143d9add89",
   "metadata": {},
   "outputs": [
    {
     "name": "stderr",
     "output_type": "stream",
     "text": [
      "/home/merve/notebook/.venv/lib/python3.8/site-packages/seaborn/_decorators.py:36: FutureWarning: Pass the following variable as a keyword arg: x. From version 0.12, the only valid positional argument will be `data`, and passing other arguments without an explicit keyword will result in an error or misinterpretation.\n",
      "  warnings.warn(\n"
     ]
    },
    {
     "data": {
      "text/plain": [
       "<AxesSubplot:xlabel='fraud_reported', ylabel='count'>"
      ]
     },
     "execution_count": 21,
     "metadata": {},
     "output_type": "execute_result"
    },
    {
     "data": {
      "image/png": "[encoded data removed]",
      "text/plain": [
       "<Figure size 432x288 with 1 Axes>"
      ]
     },
     "metadata": {
      "needs_background": "light"
     },
     "output_type": "display_data"
    }
   ],
   "source": [
    "# smote sonrası y_train: \n",
    "\n",
    "chck2 = pd.DataFrame()\n",
    "chck2['fraud_reported'] = y_train_over\n",
    "\n",
    "sns.countplot(chck2['fraud_reported'])"
   ]
  },
  {
   "cell_type": "markdown",
   "id": "c70d9a88-b7d7-4653-beb0-72cbd690d1b2",
   "metadata": {},
   "source": [
    "## Modelleme Aşaması \n",
    "\n",
    "Evet artık hazırız.. \n",
    "\n",
    "\n",
    "Şimdi oversampling uyguladığımız değişkenler ile train_test_split fonksiyonumuzu besleyelim ve model denemelerimize başlayalım :"
   ]
  },
  {
   "cell_type": "code",
   "execution_count": 22,
   "id": "9a4c452c-3e7c-4cdf-a9b7-25c38a47d304",
   "metadata": {},
   "outputs": [],
   "source": [
    "X_train, X_test, y_train, y_test = train_test_split(x_train_over, y_train_over, test_size = 0.2, random_state = 1)"
   ]
  },
  {
   "cell_type": "markdown",
   "id": "6958c9bd-07b1-456c-9630-5d68b6a3ad48",
   "metadata": {},
   "source": [
    "### Logistic Regression\n",
    "\n",
    "Linear Regression'dan sonra modellerin atası sayılabilecek Logistic Regression ile başlayalım :"
   ]
  },
  {
   "cell_type": "code",
   "execution_count": 23,
   "id": "1a656f06-b12b-4894-8b9d-a3fd72db3790",
   "metadata": {},
   "outputs": [
    {
     "name": "stdout",
     "output_type": "stream",
     "text": [
      "Training Accuracy:  0.9245867768595041\n",
      "Testing Accuarcy:  0.847\n"
     ]
    }
   ],
   "source": [
    "lr = LogisticRegression()\n",
    "\n",
    "lr.fit(X_train, y_train)\n",
    "\n",
    "preds = lr.predict(X_test)\n",
    "score = lr.score(X_test, y_test)\n",
    "\n",
    "print(\"Training Accuracy: \", lr.score(X_train, y_train))\n",
    "print('Testing Accuarcy: ', round(lr.score(X_test, y_test),3))"
   ]
  },
  {
   "cell_type": "code",
   "execution_count": 24,
   "id": "5b2b9aac-8179-4026-9f68-e692d97a2306",
   "metadata": {},
   "outputs": [
    {
     "name": "stdout",
     "output_type": "stream",
     "text": [
      "              precision    recall  f1-score   support\n",
      "\n",
      "           0       0.83      0.88      0.86       126\n",
      "           1       0.86      0.81      0.84       116\n",
      "\n",
      "    accuracy                           0.85       242\n",
      "   macro avg       0.85      0.85      0.85       242\n",
      "weighted avg       0.85      0.85      0.85       242\n",
      "\n"
     ]
    },
    {
     "data": {
      "image/png": "[encoded data removed]",
      "text/plain": [
       "<Figure size 576x432 with 2 Axes>"
      ]
     },
     "metadata": {
      "needs_background": "light"
     },
     "output_type": "display_data"
    }
   ],
   "source": [
    "print(classification_report(y_test, preds))\n",
    "\n",
    "cm = confusion_matrix(y_test, preds)\n",
    "\n",
    "# confusion matrix\n",
    "plt.rcParams['figure.figsize'] = (8, 6)\n",
    "sns.heatmap(cm, annot = True, cmap = 'winter')\n",
    "plt.show()"
   ]
  },
  {
   "cell_type": "markdown",
   "id": "e89cabc7-5bc1-4936-9401-758c76597d4e",
   "metadata": {},
   "source": [
    "### Decision Tree"
   ]
  },
  {
   "cell_type": "code",
   "execution_count": 25,
   "id": "8c862110-9a38-488f-bccf-cba67d9abfe0",
   "metadata": {},
   "outputs": [
    {
     "name": "stdout",
     "output_type": "stream",
     "text": [
      "Training Accuracy:  1.0\n",
      "Testing Accuarcy:  0.855\n"
     ]
    }
   ],
   "source": [
    "dtc = DecisionTreeClassifier()\n",
    "\n",
    "dtc.fit(X_train, y_train)\n",
    "\n",
    "preds = dtc.predict(X_test)\n",
    "score = dtc.score(X_test, y_test)\n",
    "\n",
    "print(\"Training Accuracy: \", dtc.score(X_train, y_train))\n",
    "print('Testing Accuarcy: ', round(dtc.score(X_test, y_test),3))"
   ]
  },
  {
   "cell_type": "code",
   "execution_count": 26,
   "id": "540fa7da-2815-4cb4-a1eb-92fdbc86fce0",
   "metadata": {},
   "outputs": [
    {
     "name": "stdout",
     "output_type": "stream",
     "text": [
      "              precision    recall  f1-score   support\n",
      "\n",
      "           0       0.85      0.88      0.86       126\n",
      "           1       0.86      0.83      0.85       116\n",
      "\n",
      "    accuracy                           0.86       242\n",
      "   macro avg       0.86      0.85      0.85       242\n",
      "weighted avg       0.86      0.86      0.86       242\n",
      "\n"
     ]
    },
    {
     "data": {
      "image/png": "[encoded data removed]",
      "text/plain": [
       "<Figure size 576x432 with 2 Axes>"
      ]
     },
     "metadata": {
      "needs_background": "light"
     },
     "output_type": "display_data"
    }
   ],
   "source": [
    "print(classification_report(y_test, preds))\n",
    "\n",
    "cm = confusion_matrix(y_test, preds)\n",
    "\n",
    "# confusion matrix\n",
    "plt.rcParams['figure.figsize'] = (8, 6)\n",
    "sns.heatmap(cm, annot = True, cmap = 'summer')\n",
    "plt.show()"
   ]
  },
  {
   "cell_type": "markdown",
   "id": "a0cd3e0e-778a-45eb-8b59-2e015ac2a1d7",
   "metadata": {},
   "source": [
    "## Random Forest\n"
   ]
  },
  {
   "cell_type": "code",
   "execution_count": 27,
   "id": "8ff96452-1474-467d-9eac-c724c5342a6c",
   "metadata": {},
   "outputs": [
    {
     "name": "stdout",
     "output_type": "stream",
     "text": [
      "Training Accuracy:  1.0\n",
      "Testing Accuarcy:  0.851\n"
     ]
    }
   ],
   "source": [
    "rfc = RandomForestClassifier(n_estimators=25, random_state=12)\n",
    "\n",
    "rfc.fit(X_train, y_train)\n",
    "\n",
    "preds = rfc.predict(X_test)\n",
    "score = rfc.score(X_test, y_test)\n",
    "\n",
    "print(\"Training Accuracy: \", rfc.score(X_train, y_train))\n",
    "print('Testing Accuarcy: ', round(rfc.score(X_test, y_test),3))"
   ]
  },
  {
   "cell_type": "code",
   "execution_count": 28,
   "id": "fdf593ff-e7f8-4bac-b022-dd1983841c04",
   "metadata": {},
   "outputs": [
    {
     "data": {
      "image/png": "[encoded data removed]",
      "text/plain": [
       "<Figure size 576x432 with 2 Axes>"
      ]
     },
     "metadata": {
      "needs_background": "light"
     },
     "output_type": "display_data"
    },
    {
     "name": "stdout",
     "output_type": "stream",
     "text": [
      "              precision    recall  f1-score   support\n",
      "\n",
      "           0       0.85      0.87      0.86       126\n",
      "           1       0.86      0.83      0.84       116\n",
      "\n",
      "    accuracy                           0.85       242\n",
      "   macro avg       0.85      0.85      0.85       242\n",
      "weighted avg       0.85      0.85      0.85       242\n",
      "\n"
     ]
    }
   ],
   "source": [
    "# confusion matrix\n",
    "cm = confusion_matrix(y_test, preds)\n",
    "plt.rcParams['figure.figsize'] = (8, 6)\n",
    "sns.heatmap(cm, annot = True, cmap = 'autumn')\n",
    "plt.show()\n",
    "\n",
    "# classification report\n",
    "cr = classification_report(y_test, preds)\n",
    "print(cr)"
   ]
  },
  {
   "cell_type": "markdown",
   "id": "8eac6442-eab3-4039-9034-22af9e133382",
   "metadata": {},
   "source": [
    "## SVC"
   ]
  },
  {
   "cell_type": "code",
   "execution_count": 29,
   "id": "e1d50e0d-3c87-41c3-823b-b3b9b82c3a68",
   "metadata": {},
   "outputs": [
    {
     "name": "stdout",
     "output_type": "stream",
     "text": [
      "Training Accuracy:  0.93\n",
      "Testing Accuarcy:  0.86\n"
     ]
    }
   ],
   "source": [
    "svc = SVC(kernel='linear')\n",
    "svc.fit(X_train, y_train)\n",
    "\n",
    "preds = svc.predict(X_test)\n",
    "score = svc.score(X_test, y_test)\n",
    "\n",
    "print(\"Training Accuracy: \", round(svc.score(X_train, y_train),3))\n",
    "print('Testing Accuarcy: ', round(svc.score(X_test, y_test),3))"
   ]
  },
  {
   "cell_type": "code",
   "execution_count": 30,
   "id": "73891d7f-89a4-4f88-908b-89d4d63499c6",
   "metadata": {},
   "outputs": [
    {
     "name": "stdout",
     "output_type": "stream",
     "text": [
      "Training Accuracy:  0.9297520661157025\n",
      "Testing Accuarcy:  0.859504132231405\n"
     ]
    },
    {
     "data": {
      "image/png": "[encoded data removed]",
      "text/plain": [
       "<Figure size 576x576 with 2 Axes>"
      ]
     },
     "metadata": {
      "needs_background": "light"
     },
     "output_type": "display_data"
    },
    {
     "name": "stdout",
     "output_type": "stream",
     "text": [
      "              precision    recall  f1-score   support\n",
      "\n",
      "           0       0.85      0.88      0.87       126\n",
      "           1       0.87      0.84      0.85       116\n",
      "\n",
      "    accuracy                           0.86       242\n",
      "   macro avg       0.86      0.86      0.86       242\n",
      "weighted avg       0.86      0.86      0.86       242\n",
      "\n"
     ]
    }
   ],
   "source": [
    "print(\"Training Accuracy: \", svc.score(X_train, y_train))\n",
    "print('Testing Accuarcy: ', svc.score(X_test, y_test))\n",
    "\n",
    "# confusion matrix\n",
    "cm = confusion_matrix(y_test, preds)\n",
    "plt.rcParams['figure.figsize'] = (8, 8)\n",
    "sns.heatmap(cm, annot = True, cmap = 'summer')\n",
    "plt.show()\n",
    "\n",
    "# classification report\n",
    "cr = classification_report(y_test, preds)\n",
    "print(cr)"
   ]
  },
  {
   "cell_type": "code",
   "execution_count": 31,
   "id": "d5377db7-6581-4362-b5db-4ca6e2a34dfd",
   "metadata": {},
   "outputs": [],
   "source": [
    "# Ensemble Classifier\n",
    "model1 = EasyEnsembleClassifier(n_estimators = 100, random_state = 0)\n",
    "\n",
    "model1.fit(X_train, y_train)\n",
    "y_pred_ef = model1.predict(X_test)\n"
   ]
  },
  {
   "cell_type": "code",
   "execution_count": 32,
   "id": "91dab952-405e-479c-9b96-7c009dc58ec5",
   "metadata": {},
   "outputs": [
    {
     "name": "stdout",
     "output_type": "stream",
     "text": [
      "Training Accuracy:  0.9400826446280992\n",
      "Testing Accuarcy:  0.8512396694214877\n"
     ]
    },
    {
     "data": {
      "image/png": "[encoded data removed]",
      "text/plain": [
       "<Figure size 576x576 with 2 Axes>"
      ]
     },
     "metadata": {
      "needs_background": "light"
     },
     "output_type": "display_data"
    },
    {
     "name": "stdout",
     "output_type": "stream",
     "text": [
      "              precision    recall  f1-score   support\n",
      "\n",
      "           0       0.85      0.87      0.86       126\n",
      "           1       0.85      0.84      0.84       116\n",
      "\n",
      "    accuracy                           0.85       242\n",
      "   macro avg       0.85      0.85      0.85       242\n",
      "weighted avg       0.85      0.85      0.85       242\n",
      "\n"
     ]
    }
   ],
   "source": [
    "print(\"Training Accuracy: \", model1.score(X_train, y_train))\n",
    "print('Testing Accuarcy: ', model1.score(X_test, y_test))\n",
    "\n",
    "# confusion matrix\n",
    "cm = confusion_matrix(y_test, y_pred_ef)\n",
    "plt.rcParams['figure.figsize'] = (8, 8)\n",
    "sns.heatmap(cm, annot = True, cmap = 'spring')\n",
    "plt.show()\n",
    "\n",
    "# classification report\n",
    "cr = classification_report(y_test, y_pred_ef)\n",
    "print(cr)"
   ]
  },
  {
   "cell_type": "markdown",
   "id": "28fddba2-a8cc-4eae-884d-09ea663495e6",
   "metadata": {},
   "source": [
    "## Hiperparametre Optimizasyonu Aşaması (Hyperparameter Tuning)\n",
    "\n",
    "Makine öğreniminde hiperparametre optimizasyonu veya ayarlaması, bir öğrenme algoritması için bir dizi optimal hiperparametre seçme problemidir. \n",
    "\n",
    "Hiperparametre optimizasyonu sonucunda RandomForestClassifier ile oluşturulan \"rf2\" modelimizi iyileştirebildik. Bu aşamadan sonra farklı modeller üzerinde tuning işlemleri yaparak sonuçlarımızı iyileştirmek için denemeler yapabiliriz. Eğer sonuçlar beklediğimiz gibi olmuyorsa veri hazırlama aşamasına geri dönüp veri üzerindeki çalışmalarımızı tekrar gözden geçirip gerekiyorsa değiştirebiliriz.  "
   ]
  },
  {
   "cell_type": "code",
   "execution_count": 33,
   "id": "57b6a88c-4278-4aa9-9df4-0ea00abab57e",
   "metadata": {},
   "outputs": [
    {
     "name": "stdout",
     "output_type": "stream",
     "text": [
      "Parameters currently in use:\n",
      "\n",
      "{'bootstrap': True,\n",
      " 'ccp_alpha': 0.0,\n",
      " 'class_weight': None,\n",
      " 'criterion': 'gini',\n",
      " 'max_depth': None,\n",
      " 'max_features': 'auto',\n",
      " 'max_leaf_nodes': None,\n",
      " 'max_samples': None,\n",
      " 'min_impurity_decrease': 0.0,\n",
      " 'min_impurity_split': None,\n",
      " 'min_samples_leaf': 1,\n",
      " 'min_samples_split': 2,\n",
      " 'min_weight_fraction_leaf': 0.0,\n",
      " 'n_estimators': 25,\n",
      " 'n_jobs': None,\n",
      " 'oob_score': False,\n",
      " 'random_state': 12,\n",
      " 'verbose': 0,\n",
      " 'warm_start': False}\n"
     ]
    }
   ],
   "source": [
    "print('Parameters currently in use:\\n')\n",
    "pprint(rfc.get_params())"
   ]
  },
  {
   "cell_type": "code",
   "execution_count": 34,
   "id": "8b4fbffd-9907-4afa-a485-562254d54981",
   "metadata": {},
   "outputs": [
    {
     "name": "stdout",
     "output_type": "stream",
     "text": [
      "{'bootstrap': [True, False],\n",
      " 'max_depth': [5, 17, 30, None],\n",
      " 'max_features': ['auto', 'sqrt'],\n",
      " 'min_samples_leaf': [1, 2, 4],\n",
      " 'min_samples_split': [2, 5, 10],\n",
      " 'n_estimators': [300, 650, 1000]}\n"
     ]
    }
   ],
   "source": [
    "n_estimators = [int(x) for x in np.linspace(start = 300, stop = 1000, num = 3)]\n",
    "max_features = ['auto', 'sqrt']\n",
    "max_depth = [int(x) for x in np.linspace(5, 30, num = 3)]\n",
    "max_depth.append(None)\n",
    "min_samples_split = [2, 5, 10]\n",
    "min_samples_leaf = [1, 2, 4]\n",
    "bootstrap = [True, False]\n",
    "random_grid = {'n_estimators': n_estimators,\n",
    "               'max_features': max_features,\n",
    "               'max_depth': max_depth,\n",
    "               'min_samples_split': min_samples_split,\n",
    "               'min_samples_leaf': min_samples_leaf,\n",
    "               'bootstrap': bootstrap}\n",
    "pprint(random_grid)"
   ]
  },
  {
   "cell_type": "code",
   "execution_count": 35,
   "id": "f1e3ffb6-eb52-4f53-92fb-7f594c1a7422",
   "metadata": {},
   "outputs": [
    {
     "name": "stdout",
     "output_type": "stream",
     "text": [
      "Fitting 3 folds for each of 100 candidates, totalling 300 fits\n"
     ]
    },
    {
     "data": {
      "text/plain": [
       "RandomizedSearchCV(cv=3, estimator=RandomForestClassifier(), n_iter=100,\n",
       "                   n_jobs=-1,\n",
       "                   param_distributions={'bootstrap': [True, False],\n",
       "                                        'max_depth': [5, 17, 30, None],\n",
       "                                        'max_features': ['auto', 'sqrt'],\n",
       "                                        'min_samples_leaf': [1, 2, 4],\n",
       "                                        'min_samples_split': [2, 5, 10],\n",
       "                                        'n_estimators': [300, 650, 1000]},\n",
       "                   random_state=42, verbose=2)"
      ]
     },
     "execution_count": 35,
     "metadata": {},
     "output_type": "execute_result"
    }
   ],
   "source": [
    "rf = RandomForestClassifier()\n",
    "rf_random = RandomizedSearchCV(estimator = rf, param_distributions = random_grid, n_iter = 100, cv = 3, verbose=2, random_state=42, n_jobs = -1)\n",
    "rf_random.fit(X_train, y_train)"
   ]
  },
  {
   "cell_type": "code",
   "execution_count": 36,
   "id": "6ceb8211-1beb-4d6c-98d3-bbebd9c65764",
   "metadata": {},
   "outputs": [
    {
     "data": {
      "text/plain": [
       "{'n_estimators': 650,\n",
       " 'min_samples_split': 10,\n",
       " 'min_samples_leaf': 1,\n",
       " 'max_features': 'sqrt',\n",
       " 'max_depth': 17,\n",
       " 'bootstrap': False}"
      ]
     },
     "execution_count": 36,
     "metadata": {},
     "output_type": "execute_result"
    }
   ],
   "source": [
    "rf_random.best_params_"
   ]
  },
  {
   "cell_type": "code",
   "execution_count": 37,
   "id": "c1319c59-c1ce-4a96-85c7-cbf6a9d14251",
   "metadata": {},
   "outputs": [
    {
     "name": "stdout",
     "output_type": "stream",
     "text": [
      "Training Accuracy:  1.0\n",
      "Testing Accuarcy:  0.8760330578512396\n"
     ]
    },
    {
     "data": {
      "image/png": "[encoded data removed]",
      "text/plain": [
       "<Figure size 576x576 with 2 Axes>"
      ]
     },
     "metadata": {
      "needs_background": "light"
     },
     "output_type": "display_data"
    },
    {
     "name": "stdout",
     "output_type": "stream",
     "text": [
      "              precision    recall  f1-score   support\n",
      "\n",
      "           0       0.85      0.92      0.89       126\n",
      "           1       0.91      0.83      0.86       116\n",
      "\n",
      "    accuracy                           0.88       242\n",
      "   macro avg       0.88      0.87      0.88       242\n",
      "weighted avg       0.88      0.88      0.88       242\n",
      "\n"
     ]
    }
   ],
   "source": [
    "rf2 = RandomForestClassifier(n_estimators=300,min_samples_split=2,min_samples_leaf=1,max_features='sqrt'\n",
    "                            ,max_depth=17,bootstrap='False')\n",
    "rf2.fit(X_train, y_train)\n",
    "\n",
    "preds_ = rf2.predict(X_test)\n",
    "score_ = rf2.score(X_test, y_test)\n",
    "\n",
    "print(\"Training Accuracy: \", rf2.score(X_train, y_train))\n",
    "print('Testing Accuarcy: ', rf2.score(X_test, y_test))\n",
    "\n",
    "# confusion matrix\n",
    "cm = confusion_matrix(y_test, preds_)\n",
    "plt.rcParams['figure.figsize'] = (8, 8)\n",
    "sns.heatmap(cm, annot = True, cmap = 'winter')\n",
    "plt.show()\n",
    "\n",
    "# classification report\n",
    "cr = classification_report(y_test, preds_)\n",
    "print(cr)"
   ]
  }
 ],
 "metadata": {
  "kernelspec": {
   "display_name": "Python 3 (ipykernel)",
   "language": "python",
   "name": "python3"
  },
  "language_info": {
   "codemirror_mode": {
    "name": "ipython",
    "version": 3
   },
   "file_extension": ".py",
   "mimetype": "text/x-python",
   "name": "python",
   "nbconvert_exporter": "python",
   "pygments_lexer": "ipython3",
   "version": "3.8.10"
  }
 },
 "nbformat": 4,
 "nbformat_minor": 5
}
