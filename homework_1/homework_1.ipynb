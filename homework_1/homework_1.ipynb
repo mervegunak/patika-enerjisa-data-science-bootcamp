{
 "cells": [
  {
   "cell_type": "code",
   "execution_count": 1,
   "metadata": {},
   "outputs": [],
   "source": [
    "import matplotlib.pyplot as plt \n",
    "import numpy as np\n",
    "import pandas as pd \n",
    "import seaborn as sns\n",
    "import scipy\n",
    "\n",
    "import warnings\n",
    "warnings.filterwarnings(\"ignore\")"
   ]
  },
  {
   "cell_type": "markdown",
   "metadata": {},
   "source": [
    "## **Soru 1** \n",
    "#### **Pandas kütüphanesiyle bir DataFrame oluşturup ve içine Levels of Measurements'ları nominal, ordinal, interval ve ratio olan kolonlar ekleyelim.**\n"
   ]
  },
  {
   "cell_type": "code",
   "execution_count": 2,
   "metadata": {},
   "outputs": [
    {
     "data": {
      "text/html": [
       "<div>\n",
       "<style scoped>\n",
       "    .dataframe tbody tr th:only-of-type {\n",
       "        vertical-align: middle;\n",
       "    }\n",
       "\n",
       "    .dataframe tbody tr th {\n",
       "        vertical-align: top;\n",
       "    }\n",
       "\n",
       "    .dataframe thead th {\n",
       "        text-align: right;\n",
       "    }\n",
       "</style>\n",
       "<table border=\"1\" class=\"dataframe\">\n",
       "  <thead>\n",
       "    <tr style=\"text-align: right;\">\n",
       "      <th></th>\n",
       "      <th>Nominal</th>\n",
       "      <th>Ordinal</th>\n",
       "      <th>Interval</th>\n",
       "      <th>Ratio</th>\n",
       "    </tr>\n",
       "  </thead>\n",
       "  <tbody>\n",
       "    <tr>\n",
       "      <th>0</th>\n",
       "      <td>Female</td>\n",
       "      <td>High School</td>\n",
       "      <td>9780.525733</td>\n",
       "      <td>71</td>\n",
       "    </tr>\n",
       "    <tr>\n",
       "      <th>1</th>\n",
       "      <td>Male</td>\n",
       "      <td>Post-Graduate</td>\n",
       "      <td>6254.154782</td>\n",
       "      <td>31</td>\n",
       "    </tr>\n",
       "    <tr>\n",
       "      <th>2</th>\n",
       "      <td>Female</td>\n",
       "      <td>College</td>\n",
       "      <td>3079.950262</td>\n",
       "      <td>86</td>\n",
       "    </tr>\n",
       "    <tr>\n",
       "      <th>3</th>\n",
       "      <td>Female</td>\n",
       "      <td>Graduate</td>\n",
       "      <td>3601.614049</td>\n",
       "      <td>31</td>\n",
       "    </tr>\n",
       "    <tr>\n",
       "      <th>4</th>\n",
       "      <td>Female</td>\n",
       "      <td>Post-Graduate</td>\n",
       "      <td>9738.932087</td>\n",
       "      <td>73</td>\n",
       "    </tr>\n",
       "    <tr>\n",
       "      <th>5</th>\n",
       "      <td>Female</td>\n",
       "      <td>College</td>\n",
       "      <td>2374.089034</td>\n",
       "      <td>34</td>\n",
       "    </tr>\n",
       "    <tr>\n",
       "      <th>6</th>\n",
       "      <td>Male</td>\n",
       "      <td>Elementary</td>\n",
       "      <td>7028.572161</td>\n",
       "      <td>29</td>\n",
       "    </tr>\n",
       "    <tr>\n",
       "      <th>7</th>\n",
       "      <td>Female</td>\n",
       "      <td>Post-Graduate</td>\n",
       "      <td>5774.286553</td>\n",
       "      <td>17</td>\n",
       "    </tr>\n",
       "    <tr>\n",
       "      <th>8</th>\n",
       "      <td>Female</td>\n",
       "      <td>Post-Graduate</td>\n",
       "      <td>7545.154299</td>\n",
       "      <td>99</td>\n",
       "    </tr>\n",
       "    <tr>\n",
       "      <th>9</th>\n",
       "      <td>Female</td>\n",
       "      <td>Graduate</td>\n",
       "      <td>1701.294798</td>\n",
       "      <td>66</td>\n",
       "    </tr>\n",
       "  </tbody>\n",
       "</table>\n",
       "</div>"
      ],
      "text/plain": [
       "  Nominal        Ordinal     Interval  Ratio\n",
       "0  Female    High School  9780.525733     71\n",
       "1    Male  Post-Graduate  6254.154782     31\n",
       "2  Female        College  3079.950262     86\n",
       "3  Female       Graduate  3601.614049     31\n",
       "4  Female  Post-Graduate  9738.932087     73\n",
       "5  Female        College  2374.089034     34\n",
       "6    Male     Elementary  7028.572161     29\n",
       "7  Female  Post-Graduate  5774.286553     17\n",
       "8  Female  Post-Graduate  7545.154299     99\n",
       "9  Female       Graduate  1701.294798     66"
      ]
     },
     "execution_count": 2,
     "metadata": {},
     "output_type": "execute_result"
    }
   ],
   "source": [
    "gender_list = ['Female', 'Male']\n",
    "educationlevel_list = [\"Elementary\", \"High School\", \"College\", \"Graduate\", \"Post-Graduate\"]\n",
    "\n",
    "_dict= [{ 'Nominal':np.random.choice(gender_list),\n",
    "          'Ordinal':np.random.choice(educationlevel_list),\n",
    "          'Interval':np.random.uniform(0,10000),\n",
    "          'Ratio':np.random.randint(10,100)} for x in range(10)]\n",
    "df = pd.DataFrame(_dict)\n",
    "df"
   ]
  },
  {
   "cell_type": "markdown",
   "metadata": {},
   "source": [
    "## **Soru 2 :**\n",
    "#### **Ekli data üzerindeki aşağıda yer alan kolonların count, mean, std, min, 25%, 50%, 75%, max değerlerini ve IQR metoduyla outlier kalan veri sayısını çıkartıp, bu değerleri sözel ve karşılaştırmalı olarak yorumlayalım.**\n"
   ]
  },
  {
   "cell_type": "code",
   "execution_count": 3,
   "metadata": {},
   "outputs": [
    {
     "data": {
      "text/html": [
       "<div>\n",
       "<style scoped>\n",
       "    .dataframe tbody tr th:only-of-type {\n",
       "        vertical-align: middle;\n",
       "    }\n",
       "\n",
       "    .dataframe tbody tr th {\n",
       "        vertical-align: top;\n",
       "    }\n",
       "\n",
       "    .dataframe thead th {\n",
       "        text-align: right;\n",
       "    }\n",
       "</style>\n",
       "<table border=\"1\" class=\"dataframe\">\n",
       "  <thead>\n",
       "    <tr style=\"text-align: right;\">\n",
       "      <th></th>\n",
       "      <th>id</th>\n",
       "      <th>diagnosis</th>\n",
       "      <th>radius_mean</th>\n",
       "      <th>texture_mean</th>\n",
       "      <th>perimeter_mean</th>\n",
       "      <th>area_mean</th>\n",
       "      <th>smoothness_mean</th>\n",
       "      <th>compactness_mean</th>\n",
       "      <th>concavity_mean</th>\n",
       "      <th>concave points_mean</th>\n",
       "      <th>...</th>\n",
       "      <th>texture_worst</th>\n",
       "      <th>perimeter_worst</th>\n",
       "      <th>area_worst</th>\n",
       "      <th>smoothness_worst</th>\n",
       "      <th>compactness_worst</th>\n",
       "      <th>concavity_worst</th>\n",
       "      <th>concave points_worst</th>\n",
       "      <th>symmetry_worst</th>\n",
       "      <th>fractal_dimension_worst</th>\n",
       "      <th>Unnamed: 32</th>\n",
       "    </tr>\n",
       "  </thead>\n",
       "  <tbody>\n",
       "    <tr>\n",
       "      <th>0</th>\n",
       "      <td>842302</td>\n",
       "      <td>M</td>\n",
       "      <td>17.99</td>\n",
       "      <td>10.38</td>\n",
       "      <td>122.80</td>\n",
       "      <td>1001.0</td>\n",
       "      <td>0.11840</td>\n",
       "      <td>0.27760</td>\n",
       "      <td>0.3001</td>\n",
       "      <td>0.14710</td>\n",
       "      <td>...</td>\n",
       "      <td>17.33</td>\n",
       "      <td>184.60</td>\n",
       "      <td>2019.0</td>\n",
       "      <td>0.1622</td>\n",
       "      <td>0.6656</td>\n",
       "      <td>0.7119</td>\n",
       "      <td>0.2654</td>\n",
       "      <td>0.4601</td>\n",
       "      <td>0.11890</td>\n",
       "      <td>NaN</td>\n",
       "    </tr>\n",
       "    <tr>\n",
       "      <th>1</th>\n",
       "      <td>842517</td>\n",
       "      <td>M</td>\n",
       "      <td>20.57</td>\n",
       "      <td>17.77</td>\n",
       "      <td>132.90</td>\n",
       "      <td>1326.0</td>\n",
       "      <td>0.08474</td>\n",
       "      <td>0.07864</td>\n",
       "      <td>0.0869</td>\n",
       "      <td>0.07017</td>\n",
       "      <td>...</td>\n",
       "      <td>23.41</td>\n",
       "      <td>158.80</td>\n",
       "      <td>1956.0</td>\n",
       "      <td>0.1238</td>\n",
       "      <td>0.1866</td>\n",
       "      <td>0.2416</td>\n",
       "      <td>0.1860</td>\n",
       "      <td>0.2750</td>\n",
       "      <td>0.08902</td>\n",
       "      <td>NaN</td>\n",
       "    </tr>\n",
       "    <tr>\n",
       "      <th>2</th>\n",
       "      <td>84300903</td>\n",
       "      <td>M</td>\n",
       "      <td>19.69</td>\n",
       "      <td>21.25</td>\n",
       "      <td>130.00</td>\n",
       "      <td>1203.0</td>\n",
       "      <td>0.10960</td>\n",
       "      <td>0.15990</td>\n",
       "      <td>0.1974</td>\n",
       "      <td>0.12790</td>\n",
       "      <td>...</td>\n",
       "      <td>25.53</td>\n",
       "      <td>152.50</td>\n",
       "      <td>1709.0</td>\n",
       "      <td>0.1444</td>\n",
       "      <td>0.4245</td>\n",
       "      <td>0.4504</td>\n",
       "      <td>0.2430</td>\n",
       "      <td>0.3613</td>\n",
       "      <td>0.08758</td>\n",
       "      <td>NaN</td>\n",
       "    </tr>\n",
       "    <tr>\n",
       "      <th>3</th>\n",
       "      <td>84348301</td>\n",
       "      <td>M</td>\n",
       "      <td>11.42</td>\n",
       "      <td>20.38</td>\n",
       "      <td>77.58</td>\n",
       "      <td>386.1</td>\n",
       "      <td>0.14250</td>\n",
       "      <td>0.28390</td>\n",
       "      <td>0.2414</td>\n",
       "      <td>0.10520</td>\n",
       "      <td>...</td>\n",
       "      <td>26.50</td>\n",
       "      <td>98.87</td>\n",
       "      <td>567.7</td>\n",
       "      <td>0.2098</td>\n",
       "      <td>0.8663</td>\n",
       "      <td>0.6869</td>\n",
       "      <td>0.2575</td>\n",
       "      <td>0.6638</td>\n",
       "      <td>0.17300</td>\n",
       "      <td>NaN</td>\n",
       "    </tr>\n",
       "    <tr>\n",
       "      <th>4</th>\n",
       "      <td>84358402</td>\n",
       "      <td>M</td>\n",
       "      <td>20.29</td>\n",
       "      <td>14.34</td>\n",
       "      <td>135.10</td>\n",
       "      <td>1297.0</td>\n",
       "      <td>0.10030</td>\n",
       "      <td>0.13280</td>\n",
       "      <td>0.1980</td>\n",
       "      <td>0.10430</td>\n",
       "      <td>...</td>\n",
       "      <td>16.67</td>\n",
       "      <td>152.20</td>\n",
       "      <td>1575.0</td>\n",
       "      <td>0.1374</td>\n",
       "      <td>0.2050</td>\n",
       "      <td>0.4000</td>\n",
       "      <td>0.1625</td>\n",
       "      <td>0.2364</td>\n",
       "      <td>0.07678</td>\n",
       "      <td>NaN</td>\n",
       "    </tr>\n",
       "  </tbody>\n",
       "</table>\n",
       "<p>5 rows × 33 columns</p>\n",
       "</div>"
      ],
      "text/plain": [
       "         id diagnosis  radius_mean  texture_mean  perimeter_mean  area_mean  \\\n",
       "0    842302         M        17.99         10.38          122.80     1001.0   \n",
       "1    842517         M        20.57         17.77          132.90     1326.0   \n",
       "2  84300903         M        19.69         21.25          130.00     1203.0   \n",
       "3  84348301         M        11.42         20.38           77.58      386.1   \n",
       "4  84358402         M        20.29         14.34          135.10     1297.0   \n",
       "\n",
       "   smoothness_mean  compactness_mean  concavity_mean  concave points_mean  \\\n",
       "0          0.11840           0.27760          0.3001              0.14710   \n",
       "1          0.08474           0.07864          0.0869              0.07017   \n",
       "2          0.10960           0.15990          0.1974              0.12790   \n",
       "3          0.14250           0.28390          0.2414              0.10520   \n",
       "4          0.10030           0.13280          0.1980              0.10430   \n",
       "\n",
       "   ...  texture_worst  perimeter_worst  area_worst  smoothness_worst  \\\n",
       "0  ...          17.33           184.60      2019.0            0.1622   \n",
       "1  ...          23.41           158.80      1956.0            0.1238   \n",
       "2  ...          25.53           152.50      1709.0            0.1444   \n",
       "3  ...          26.50            98.87       567.7            0.2098   \n",
       "4  ...          16.67           152.20      1575.0            0.1374   \n",
       "\n",
       "   compactness_worst  concavity_worst  concave points_worst  symmetry_worst  \\\n",
       "0             0.6656           0.7119                0.2654          0.4601   \n",
       "1             0.1866           0.2416                0.1860          0.2750   \n",
       "2             0.4245           0.4504                0.2430          0.3613   \n",
       "3             0.8663           0.6869                0.2575          0.6638   \n",
       "4             0.2050           0.4000                0.1625          0.2364   \n",
       "\n",
       "   fractal_dimension_worst  Unnamed: 32  \n",
       "0                  0.11890          NaN  \n",
       "1                  0.08902          NaN  \n",
       "2                  0.08758          NaN  \n",
       "3                  0.17300          NaN  \n",
       "4                  0.07678          NaN  \n",
       "\n",
       "[5 rows x 33 columns]"
      ]
     },
     "execution_count": 3,
     "metadata": {},
     "output_type": "execute_result"
    }
   ],
   "source": [
    "### read_csv ile .csv dosyası okunur\n",
    "\n",
    "data = pd.read_csv(\"data.csv\")\n",
    "data.head()"
   ]
  },
  {
   "cell_type": "code",
   "execution_count": 4,
   "metadata": {},
   "outputs": [
    {
     "data": {
      "text/html": [
       "<div>\n",
       "<style scoped>\n",
       "    .dataframe tbody tr th:only-of-type {\n",
       "        vertical-align: middle;\n",
       "    }\n",
       "\n",
       "    .dataframe tbody tr th {\n",
       "        vertical-align: top;\n",
       "    }\n",
       "\n",
       "    .dataframe thead th {\n",
       "        text-align: right;\n",
       "    }\n",
       "</style>\n",
       "<table border=\"1\" class=\"dataframe\">\n",
       "  <thead>\n",
       "    <tr style=\"text-align: right;\">\n",
       "      <th></th>\n",
       "      <th>diagnosis</th>\n",
       "      <th>radius_mean</th>\n",
       "      <th>area_mean</th>\n",
       "      <th>compactness_mean</th>\n",
       "    </tr>\n",
       "  </thead>\n",
       "  <tbody>\n",
       "    <tr>\n",
       "      <th>0</th>\n",
       "      <td>M</td>\n",
       "      <td>17.99</td>\n",
       "      <td>1001.0</td>\n",
       "      <td>0.27760</td>\n",
       "    </tr>\n",
       "    <tr>\n",
       "      <th>1</th>\n",
       "      <td>M</td>\n",
       "      <td>20.57</td>\n",
       "      <td>1326.0</td>\n",
       "      <td>0.07864</td>\n",
       "    </tr>\n",
       "    <tr>\n",
       "      <th>2</th>\n",
       "      <td>M</td>\n",
       "      <td>19.69</td>\n",
       "      <td>1203.0</td>\n",
       "      <td>0.15990</td>\n",
       "    </tr>\n",
       "    <tr>\n",
       "      <th>3</th>\n",
       "      <td>M</td>\n",
       "      <td>11.42</td>\n",
       "      <td>386.1</td>\n",
       "      <td>0.28390</td>\n",
       "    </tr>\n",
       "    <tr>\n",
       "      <th>4</th>\n",
       "      <td>M</td>\n",
       "      <td>20.29</td>\n",
       "      <td>1297.0</td>\n",
       "      <td>0.13280</td>\n",
       "    </tr>\n",
       "  </tbody>\n",
       "</table>\n",
       "</div>"
      ],
      "text/plain": [
       "  diagnosis  radius_mean  area_mean  compactness_mean\n",
       "0         M        17.99     1001.0           0.27760\n",
       "1         M        20.57     1326.0           0.07864\n",
       "2         M        19.69     1203.0           0.15990\n",
       "3         M        11.42      386.1           0.28390\n",
       "4         M        20.29     1297.0           0.13280"
      ]
     },
     "execution_count": 4,
     "metadata": {},
     "output_type": "execute_result"
    }
   ],
   "source": [
    "### ilgili kolonlardan yeni bir df oluşturulur\n",
    "\n",
    "new_df = data[[\"diagnosis\",\"radius_mean\",\"area_mean\",\"compactness_mean\"]]\n",
    "new_df.head()"
   ]
  },
  {
   "cell_type": "code",
   "execution_count": 5,
   "metadata": {},
   "outputs": [
    {
     "data": {
      "text/plain": [
       "diagnosis           0\n",
       "radius_mean         0\n",
       "area_mean           0\n",
       "compactness_mean    0\n",
       "dtype: int64"
      ]
     },
     "execution_count": 5,
     "metadata": {},
     "output_type": "execute_result"
    }
   ],
   "source": [
    "# eksik veri kontrolü :\n",
    "\n",
    "new_df.isnull().sum()"
   ]
  },
  {
   "cell_type": "code",
   "execution_count": 6,
   "metadata": {},
   "outputs": [
    {
     "data": {
      "text/html": [
       "<div>\n",
       "<style scoped>\n",
       "    .dataframe tbody tr th:only-of-type {\n",
       "        vertical-align: middle;\n",
       "    }\n",
       "\n",
       "    .dataframe tbody tr th {\n",
       "        vertical-align: top;\n",
       "    }\n",
       "\n",
       "    .dataframe thead th {\n",
       "        text-align: right;\n",
       "    }\n",
       "</style>\n",
       "<table border=\"1\" class=\"dataframe\">\n",
       "  <thead>\n",
       "    <tr style=\"text-align: right;\">\n",
       "      <th></th>\n",
       "      <th>count</th>\n",
       "      <th>mean</th>\n",
       "      <th>std</th>\n",
       "      <th>min</th>\n",
       "      <th>25%</th>\n",
       "      <th>50%</th>\n",
       "      <th>75%</th>\n",
       "      <th>max</th>\n",
       "    </tr>\n",
       "  </thead>\n",
       "  <tbody>\n",
       "    <tr>\n",
       "      <th>radius_mean</th>\n",
       "      <td>569.0</td>\n",
       "      <td>14.127292</td>\n",
       "      <td>3.524049</td>\n",
       "      <td>6.98100</td>\n",
       "      <td>11.70000</td>\n",
       "      <td>13.37000</td>\n",
       "      <td>15.7800</td>\n",
       "      <td>28.1100</td>\n",
       "    </tr>\n",
       "    <tr>\n",
       "      <th>area_mean</th>\n",
       "      <td>569.0</td>\n",
       "      <td>654.889104</td>\n",
       "      <td>351.914129</td>\n",
       "      <td>143.50000</td>\n",
       "      <td>420.30000</td>\n",
       "      <td>551.10000</td>\n",
       "      <td>782.7000</td>\n",
       "      <td>2501.0000</td>\n",
       "    </tr>\n",
       "    <tr>\n",
       "      <th>compactness_mean</th>\n",
       "      <td>569.0</td>\n",
       "      <td>0.104341</td>\n",
       "      <td>0.052813</td>\n",
       "      <td>0.01938</td>\n",
       "      <td>0.06492</td>\n",
       "      <td>0.09263</td>\n",
       "      <td>0.1304</td>\n",
       "      <td>0.3454</td>\n",
       "    </tr>\n",
       "  </tbody>\n",
       "</table>\n",
       "</div>"
      ],
      "text/plain": [
       "                  count        mean         std        min        25%  \\\n",
       "radius_mean       569.0   14.127292    3.524049    6.98100   11.70000   \n",
       "area_mean         569.0  654.889104  351.914129  143.50000  420.30000   \n",
       "compactness_mean  569.0    0.104341    0.052813    0.01938    0.06492   \n",
       "\n",
       "                        50%       75%        max  \n",
       "radius_mean        13.37000   15.7800    28.1100  \n",
       "area_mean         551.10000  782.7000  2501.0000  \n",
       "compactness_mean    0.09263    0.1304     0.3454  "
      ]
     },
     "execution_count": 6,
     "metadata": {},
     "output_type": "execute_result"
    }
   ],
   "source": [
    "# \"describe\" sayısal verilere sahip olan sütunların istatiksel değerlerini döndürür : \n",
    "\n",
    "new_df.describe().T"
   ]
  },
  {
   "cell_type": "markdown",
   "metadata": {},
   "source": [
    "**radius_mean** \n",
    "* minimum değeri: 6.98 | maksimum değeri: 28.11 | alt çeyrek: 11.70 | üst çeyrek: 15.78 olarak gözlenmektedir, veri kümesinde aykırı değerler olabilir.\n",
    "\n",
    "* medyan < ortalama olmakla birlikte ortalama ve medyan değerleri birbirine oldukça yakın gözlenlenmektedir.\n",
    "* ilgili veri kümesi simetrik bir dağılıma yakınsak şekilde sağa çarpık bir dağılıma sahip olabilir.\n",
    "* standart sapma değeri çok büyük gözlenmektedir, az sayıda aykırı değer barındırıyor olabilir.\n",
    "\n",
    "**area_mean** \n",
    "* minimum değeri: 143.50 | maksimum değeri: 2501.00 | alt çeyrek: 420.30 | üst çeyrek: 782.70 olarak gözlenmektedir, veri kümesi yüksek bir olasılıkla uç değerler barındırıyor olabilir.\n",
    "\n",
    "* medyan < ortalama ve standart sapması büyük gözlenlenmektedir, veri kümesinin dağılımı sağa çarpık olabilir.\n",
    "\n",
    "**compactness_mean** \n",
    "* minimum değeri: 0.01 | maksimum değeri: 0.34 | alt çeyrek: 0.06 | üst çeyrek: 0.13 olarak gözlenmektedir.\n",
    "\n",
    "* medyan < ortalama olarak gözlenlenmektedir, standart sapma değeri küçük gözlenmektedir.\n",
    "* ilgili veri kümesi sağa çarpık bir dağılıma sahip olabilir."
   ]
  },
  {
   "cell_type": "code",
   "execution_count": 7,
   "metadata": {},
   "outputs": [
    {
     "data": {
      "image/png": "[encoded data removed]",
      "text/plain": [
       "<Figure size 1080x360 with 1 Axes>"
      ]
     },
     "metadata": {
      "needs_background": "light"
     },
     "output_type": "display_data"
    },
    {
     "data": {
      "image/png": "[encoded data removed]",
      "text/plain": [
       "<Figure size 1080x360 with 1 Axes>"
      ]
     },
     "metadata": {
      "needs_background": "light"
     },
     "output_type": "display_data"
    },
    {
     "data": {
      "image/png": "[encoded data removed]",
      "text/plain": [
       "<Figure size 1080x360 with 1 Axes>"
      ]
     },
     "metadata": {
      "needs_background": "light"
     },
     "output_type": "display_data"
    }
   ],
   "source": [
    "# histogram grafiği ile kolonların gösterimi : \n",
    "\n",
    "columns = new_df.columns[1:]\n",
    "\n",
    "for col in columns:\n",
    "    plt.figure(figsize=(15,5))    \n",
    "    sns.distplot(new_df[col])"
   ]
  },
  {
   "cell_type": "code",
   "execution_count": 8,
   "metadata": {},
   "outputs": [
    {
     "name": "stdout",
     "output_type": "stream",
     "text": [
      "Diagnosis :  M \n",
      "\n",
      "RADIUS_MEAN \n",
      "Interquartile Range : 4.515 Lower Bound: 8.303 Upper Bound: 26.362\n",
      "Outliers: [27.22, 28.11, 27.42]\n",
      "\n",
      "\n",
      "AREA_MEAN \n",
      "Interquartile Range : 498.45 Lower Bound: -42.375 Upper Bound: 1951.425\n",
      "Outliers: [2250.0, 2499.0, 2010.0, 2501.0]\n",
      "\n",
      "\n",
      "COMPACTNESS_MEAN \n",
      "Interquartile Range : 0.063 Lower Bound: 0.015 Upper Bound: 0.267\n",
      "Outliers: [0.2776, 0.2839, 0.3454, 0.2768, 0.2867, 0.2832, 0.3114, 0.277]\n",
      "\n",
      "\n",
      "Diagnosis :  B \n",
      "\n",
      "RADIUS_MEAN \n",
      "Interquartile Range : 2.29 Lower Bound: 7.645 Upper Bound: 16.805\n",
      "Outliers: [6.981, 16.84, 17.85]\n",
      "\n",
      "\n",
      "AREA_MEAN \n",
      "Interquartile Range : 172.9 Lower Bound: 118.85 Upper Bound: 810.45\n",
      "Outliers: [880.2, 838.1, 992.1, 819.8]\n",
      "\n",
      "\n",
      "COMPACTNESS_MEAN \n",
      "Interquartile Range : 0.042 Lower Bound: -0.007 Upper Bound: 0.16\n",
      "Outliers: [0.2233, 0.1807, 0.1676, 0.1972, 0.166, 0.1836, 0.2239, 0.2204, 0.1661]\n",
      "\n",
      "\n"
     ]
    }
   ],
   "source": [
    "# IQR metoduyla uç değerlerin tespiti \n",
    "\n",
    "for _class in new_df[\"diagnosis\"].unique(): \n",
    "    _class_df = new_df[new_df[\"diagnosis\"] == _class]\n",
    "    print(\"Diagnosis : \", _class,\"\\n\")\n",
    "\n",
    "    for col in columns:\n",
    "        desc = _class_df[col].describe()\n",
    "        \n",
    "## Q1 ve Q2 değerlerinin bulunması\n",
    "### Q1 (alt çeyrek) ve Q3 (üst çeyrek) değerlerini \".describe()\" ile oluşturduğumuz yapıdan direkt çektik\n",
    "      \n",
    "        Q1 = desc[4]\n",
    "        Q3 = desc[6]\n",
    "        \n",
    "## Çeyrekler Açıklığı(IQR) \n",
    "\n",
    "        IQR = Q3-Q1\n",
    "    \n",
    "## Üst ve Alt sınırlar bulunur ve uç değerler tespit edilir \n",
    "\n",
    "        lower_bound = Q1 - 1.5*IQR\n",
    "        upper_bound = Q3 + 1.5*IQR\n",
    "\n",
    "        outliers = _class_df[(_class_df[col] < lower_bound) | (_class_df[col] > upper_bound)][col]\n",
    "\n",
    "        print(col.upper(),\"\\n\"\"Interquartile Range\",\":\",round(IQR,3),\"Lower Bound:\",round(lower_bound,3),\"Upper Bound:\",round(upper_bound,3))\n",
    "\n",
    "        if len(outliers) == 0:\n",
    "            print(\"Outliers Not Found\"\"\\n\")\n",
    "        else : \n",
    "            print(\"Outliers:\",list(outliers))\n",
    "            print(\"\\n\")"
   ]
  },
  {
   "cell_type": "markdown",
   "metadata": {},
   "source": [
    "* İlgili kolonlar : \"radius_mean\", \"area_mean\", \"compactness_mean\" için çeyrekler açıklığı yöntemi kullanılarak aykırı değerler tespit edilmiştir. \n",
    "\n",
    "* Her iki sınıf (\"Malignant\" ve \"Benign\") için ayrı ayrı çeyrekler açıklığı, üst-alt sınır hesaplanmıştır.\n",
    "\n",
    "* Her grup için ilgili veri kümesinde (örneğin, M grubu - radius_mean kolonu) hesaplanan değerlerin altında veya üstünde kalan kısımlar tespit edilerek \"outliers\" adlı değişkene atanmıştır.\n",
    "    \n",
    "* M grubu için \"radius_mean\" ve \"area_mean\" medyan değerleri farklı ve yüksek olduğu gözlenmektedir. Bu iki değişken önemli göstergeler taşıyor olabilir ve öznitelik seçiminde yol gösterici olabilir.\n",
    "\n",
    "* İki grubu ayırmadan ilgili kolonlardan çıkarılan istatistiksel değerler ile ayırdıktan sonra elde ettiğimiz değerler birbirinden farklıdır. Her iki grubu kendi içinde incelemek, değerlerden anlamlı ve doğru bir çıkarım yapmak için önemlidir.\n"
   ]
  },
  {
   "cell_type": "markdown",
   "metadata": {},
   "source": [
    "## **Soru 3 :**\n",
    "\n",
    "#### **Ekli data üzerindeki aşağıda yer alan kolonların birbirleriyle olan korelasyonlarını, covaryanslarını, Pearson Correlation Coefficientlarını, Spearman Rank Coefficientlarını ve Effect Size'larını bularak sözel ve karşılaştırmalı olarak yorumlayalım.**\n"
   ]
  },
  {
   "cell_type": "code",
   "execution_count": 9,
   "metadata": {},
   "outputs": [
    {
     "data": {
      "text/html": [
       "<div>\n",
       "<style scoped>\n",
       "    .dataframe tbody tr th:only-of-type {\n",
       "        vertical-align: middle;\n",
       "    }\n",
       "\n",
       "    .dataframe tbody tr th {\n",
       "        vertical-align: top;\n",
       "    }\n",
       "\n",
       "    .dataframe thead th {\n",
       "        text-align: right;\n",
       "    }\n",
       "</style>\n",
       "<table border=\"1\" class=\"dataframe\">\n",
       "  <thead>\n",
       "    <tr style=\"text-align: right;\">\n",
       "      <th></th>\n",
       "      <th>radius_mean</th>\n",
       "      <th>area_mean</th>\n",
       "      <th>compactness_mean</th>\n",
       "    </tr>\n",
       "  </thead>\n",
       "  <tbody>\n",
       "    <tr>\n",
       "      <th>radius_mean</th>\n",
       "      <td>1.000000</td>\n",
       "      <td>0.987357</td>\n",
       "      <td>0.506124</td>\n",
       "    </tr>\n",
       "    <tr>\n",
       "      <th>area_mean</th>\n",
       "      <td>0.987357</td>\n",
       "      <td>1.000000</td>\n",
       "      <td>0.498502</td>\n",
       "    </tr>\n",
       "    <tr>\n",
       "      <th>compactness_mean</th>\n",
       "      <td>0.506124</td>\n",
       "      <td>0.498502</td>\n",
       "      <td>1.000000</td>\n",
       "    </tr>\n",
       "  </tbody>\n",
       "</table>\n",
       "</div>"
      ],
      "text/plain": [
       "                  radius_mean  area_mean  compactness_mean\n",
       "radius_mean          1.000000   0.987357          0.506124\n",
       "area_mean            0.987357   1.000000          0.498502\n",
       "compactness_mean     0.506124   0.498502          1.000000"
      ]
     },
     "metadata": {},
     "output_type": "display_data"
    },
    {
     "name": "stdout",
     "output_type": "stream",
     "text": [
      "\n",
      "\n",
      "# %0.98 : 'radius_mean' ve 'area_mean' değişkenleri arasında pozitif (aynı yönlü) çok güçlü bir ilişki vardır.\n",
      "# %0.50 : 'radius_mean' ve 'compactness_mean' değişkenleri arasında pozitif (aynı yönlü) orta seviye bir ilişki vardır.\n",
      "# %0.49 : 'area_mean' ve 'compactness_mean' değişkenleri arasında pozitif (aynı yönlü) zayıf bir ilişki vardır.\n",
      "\n",
      "\n"
     ]
    },
    {
     "data": {
      "image/png": "[encoded data removed]",
      "text/plain": [
       "<Figure size 720x432 with 2 Axes>"
      ]
     },
     "metadata": {
      "needs_background": "light"
     },
     "output_type": "display_data"
    }
   ],
   "source": [
    "# 1- Korelasyon (Pearson Korelasyon): \n",
    "\n",
    "corr = new_df[columns].corr() # (default olarak korelasyon türünü Pearson korelasyon olarak alır)\n",
    "display(corr)\n",
    "\n",
    "print(\"\\n\")\n",
    "print(\"#\",\"%0.98 : 'radius_mean' ve 'area_mean' değişkenleri arasında pozitif (aynı yönlü) çok güçlü bir ilişki vardır.\")\n",
    "print(\"#\",\"%0.50 : 'radius_mean' ve 'compactness_mean' değişkenleri arasında pozitif (aynı yönlü) orta seviye bir ilişki vardır.\")\n",
    "print(\"#\",\"%0.49 : 'area_mean' ve 'compactness_mean' değişkenleri arasında pozitif (aynı yönlü) zayıf bir ilişki vardır.\")\n",
    "print(\"\\n\")\n",
    "\n",
    "#  Korelasyon Matrisi \n",
    "plt.figure(figsize=(10,6))\n",
    "sns.heatmap(corr, annot=True)\n",
    "plt.show()"
   ]
  },
  {
   "cell_type": "code",
   "execution_count": 10,
   "metadata": {},
   "outputs": [
    {
     "data": {
      "text/plain": [
       "'kovaryans:'"
      ]
     },
     "metadata": {},
     "output_type": "display_data"
    },
    {
     "data": {
      "text/html": [
       "<div>\n",
       "<style scoped>\n",
       "    .dataframe tbody tr th:only-of-type {\n",
       "        vertical-align: middle;\n",
       "    }\n",
       "\n",
       "    .dataframe tbody tr th {\n",
       "        vertical-align: top;\n",
       "    }\n",
       "\n",
       "    .dataframe thead th {\n",
       "        text-align: right;\n",
       "    }\n",
       "</style>\n",
       "<table border=\"1\" class=\"dataframe\">\n",
       "  <thead>\n",
       "    <tr style=\"text-align: right;\">\n",
       "      <th></th>\n",
       "      <th>radius_mean</th>\n",
       "      <th>area_mean</th>\n",
       "      <th>compactness_mean</th>\n",
       "    </tr>\n",
       "  </thead>\n",
       "  <tbody>\n",
       "    <tr>\n",
       "      <th>radius_mean</th>\n",
       "      <td>12.418920</td>\n",
       "      <td>1224.483409</td>\n",
       "      <td>0.094197</td>\n",
       "    </tr>\n",
       "    <tr>\n",
       "      <th>area_mean</th>\n",
       "      <td>1224.483409</td>\n",
       "      <td>123843.554318</td>\n",
       "      <td>9.264931</td>\n",
       "    </tr>\n",
       "    <tr>\n",
       "      <th>compactness_mean</th>\n",
       "      <td>0.094197</td>\n",
       "      <td>9.264931</td>\n",
       "      <td>0.002789</td>\n",
       "    </tr>\n",
       "  </tbody>\n",
       "</table>\n",
       "</div>"
      ],
      "text/plain": [
       "                  radius_mean      area_mean  compactness_mean\n",
       "radius_mean         12.418920    1224.483409          0.094197\n",
       "area_mean         1224.483409  123843.554318          9.264931\n",
       "compactness_mean     0.094197       9.264931          0.002789"
      ]
     },
     "metadata": {},
     "output_type": "display_data"
    }
   ],
   "source": [
    "# 2- Kovaryans\n",
    "\n",
    "cov = new_df[columns].cov() \n",
    "\n",
    "display(\"kovaryans:\", cov)"
   ]
  },
  {
   "cell_type": "markdown",
   "metadata": {},
   "source": [
    "* **radius_mean** ve **area_mean** arasında pozitif bir ilişki vardır.\n",
    "* **radius_mean** ile **compactness_mean** arasında pozitif bir ilişki vardır.\n",
    "* **radius_mean** ile **compactness_mean** arasında pozitif bir ilişki vardır."
   ]
  },
  {
   "cell_type": "code",
   "execution_count": 11,
   "metadata": {},
   "outputs": [
    {
     "data": {
      "text/plain": [
       "'Pearson'"
      ]
     },
     "metadata": {},
     "output_type": "display_data"
    },
    {
     "data": {
      "text/html": [
       "<div>\n",
       "<style scoped>\n",
       "    .dataframe tbody tr th:only-of-type {\n",
       "        vertical-align: middle;\n",
       "    }\n",
       "\n",
       "    .dataframe tbody tr th {\n",
       "        vertical-align: top;\n",
       "    }\n",
       "\n",
       "    .dataframe thead th {\n",
       "        text-align: right;\n",
       "    }\n",
       "</style>\n",
       "<table border=\"1\" class=\"dataframe\">\n",
       "  <thead>\n",
       "    <tr style=\"text-align: right;\">\n",
       "      <th></th>\n",
       "      <th>radius_mean</th>\n",
       "      <th>area_mean</th>\n",
       "      <th>compactness_mean</th>\n",
       "    </tr>\n",
       "  </thead>\n",
       "  <tbody>\n",
       "    <tr>\n",
       "      <th>radius_mean</th>\n",
       "      <td>1.000000</td>\n",
       "      <td>0.987357</td>\n",
       "      <td>0.506124</td>\n",
       "    </tr>\n",
       "    <tr>\n",
       "      <th>area_mean</th>\n",
       "      <td>0.987357</td>\n",
       "      <td>1.000000</td>\n",
       "      <td>0.498502</td>\n",
       "    </tr>\n",
       "    <tr>\n",
       "      <th>compactness_mean</th>\n",
       "      <td>0.506124</td>\n",
       "      <td>0.498502</td>\n",
       "      <td>1.000000</td>\n",
       "    </tr>\n",
       "  </tbody>\n",
       "</table>\n",
       "</div>"
      ],
      "text/plain": [
       "                  radius_mean  area_mean  compactness_mean\n",
       "radius_mean          1.000000   0.987357          0.506124\n",
       "area_mean            0.987357   1.000000          0.498502\n",
       "compactness_mean     0.506124   0.498502          1.000000"
      ]
     },
     "metadata": {},
     "output_type": "display_data"
    },
    {
     "name": "stdout",
     "output_type": "stream",
     "text": [
      "# %0.98 : 'radius_mean' ve 'area_mean' değişkenleri arasında pozitif (aynı yönlü) çok yüksek bir korelasyon vardır.\n",
      "# %0.50 : 'radius_mean' ve 'compactness_mean' değişkenleri arasında pozitif (aynı yönlü) orta seviye bir korelasyon vardır.\n",
      "# %0.49 : 'area_mean' ve 'compactness_mean' değişkenleri arasında pozitif (aynı yönlü) zayıf bir korelasyon vardır. \n",
      "\n",
      "\n",
      "\n"
     ]
    },
    {
     "data": {
      "text/plain": [
       "'Spearman Rank'"
      ]
     },
     "metadata": {},
     "output_type": "display_data"
    },
    {
     "data": {
      "text/html": [
       "<div>\n",
       "<style scoped>\n",
       "    .dataframe tbody tr th:only-of-type {\n",
       "        vertical-align: middle;\n",
       "    }\n",
       "\n",
       "    .dataframe tbody tr th {\n",
       "        vertical-align: top;\n",
       "    }\n",
       "\n",
       "    .dataframe thead th {\n",
       "        text-align: right;\n",
       "    }\n",
       "</style>\n",
       "<table border=\"1\" class=\"dataframe\">\n",
       "  <thead>\n",
       "    <tr style=\"text-align: right;\">\n",
       "      <th></th>\n",
       "      <th>radius_mean</th>\n",
       "      <th>area_mean</th>\n",
       "      <th>compactness_mean</th>\n",
       "    </tr>\n",
       "  </thead>\n",
       "  <tbody>\n",
       "    <tr>\n",
       "      <th>radius_mean</th>\n",
       "      <td>1.000000</td>\n",
       "      <td>0.999602</td>\n",
       "      <td>0.497578</td>\n",
       "    </tr>\n",
       "    <tr>\n",
       "      <th>area_mean</th>\n",
       "      <td>0.999602</td>\n",
       "      <td>1.000000</td>\n",
       "      <td>0.488988</td>\n",
       "    </tr>\n",
       "    <tr>\n",
       "      <th>compactness_mean</th>\n",
       "      <td>0.497578</td>\n",
       "      <td>0.488988</td>\n",
       "      <td>1.000000</td>\n",
       "    </tr>\n",
       "  </tbody>\n",
       "</table>\n",
       "</div>"
      ],
      "text/plain": [
       "                  radius_mean  area_mean  compactness_mean\n",
       "radius_mean          1.000000   0.999602          0.497578\n",
       "area_mean            0.999602   1.000000          0.488988\n",
       "compactness_mean     0.497578   0.488988          1.000000"
      ]
     },
     "metadata": {},
     "output_type": "display_data"
    },
    {
     "name": "stdout",
     "output_type": "stream",
     "text": [
      "# %0.99 : 'radius_mean' ve 'area_mean' değişkenleri arasında pozitif (aynı yönlü) çok yüksek bir korelasyon vardır.\n",
      "# %0.49 : 'radius_mean' ve 'compactness_mean' değişkenleri arasında pozitif (aynı yönlü) zayıf bir korelasyon vardır.\n",
      "# %0.48 : 'area_mean' ve 'compactness_mean' değişkenleri arasında pozitif (aynı yönlü) zayıf bir korelasyon vardır.\n"
     ]
    }
   ],
   "source": [
    "# 3- Pearson Korelasyon\n",
    "\n",
    "pearson_cor = new_df.corr()   # (default olarak korelasyon türünü Pearson korelasyon olarak alır)\n",
    "display(\"Pearson\", pearson_cor)\n",
    "\n",
    "print(\"#\",\"%0.98 : 'radius_mean' ve 'area_mean' değişkenleri arasında pozitif (aynı yönlü) çok yüksek bir korelasyon vardır.\")\n",
    "print(\"#\",\"%0.50 : 'radius_mean' ve 'compactness_mean' değişkenleri arasında pozitif (aynı yönlü) orta seviye bir korelasyon vardır.\")\n",
    "print(\"#\",\"%0.49 : 'area_mean' ve 'compactness_mean' değişkenleri arasında pozitif (aynı yönlü) zayıf bir korelasyon vardır.\",\"\\n\")\n",
    "print(\"\\n\")\n",
    "\n",
    "# 4- Spearman Rank Korelasyon \n",
    "\n",
    "spearman_cor = new_df.corr(method=\"spearman\")\n",
    "display(\"Spearman Rank\", spearman_cor)\n",
    "\n",
    "print(\"#\",\"%0.99 : 'radius_mean' ve 'area_mean' değişkenleri arasında pozitif (aynı yönlü) çok yüksek bir korelasyon vardır.\")\n",
    "print(\"#\",\"%0.49 : 'radius_mean' ve 'compactness_mean' değişkenleri arasında pozitif (aynı yönlü) zayıf bir korelasyon vardır.\")\n",
    "print(\"#\",\"%0.48 : 'area_mean' ve 'compactness_mean' değişkenleri arasında pozitif (aynı yönlü) zayıf bir korelasyon vardır.\")"
   ]
  },
  {
   "cell_type": "markdown",
   "metadata": {},
   "source": [
    "#### # Her iki korelasyon hesaplanmasında da korelasyon kat sayıları birbirine çok yakındır. "
   ]
  },
  {
   "cell_type": "code",
   "execution_count": 14,
   "metadata": {},
   "outputs": [
    {
     "name": "stdout",
     "output_type": "stream",
     "text": [
      "radius_mean\n",
      "Etki Büyüklüğü:  2.2048585165041414 \n",
      "\n",
      "area_mean\n",
      "Etki Büyüklüğü:  2.074764916250813 \n",
      "\n",
      "compactness_mean\n",
      "Etki Büyüklüğü:  1.5342341463315066 \n",
      "\n"
     ]
    }
   ],
   "source": [
    "# 5- Etki Büyüklüğü (Cohen's D)\n",
    "\n",
    "data_malignant = new_df[new_df[\"diagnosis\"] == \"M\"]\n",
    "data_benign = new_df[new_df[\"diagnosis\"] == \"B\"]\n",
    "\n",
    "# İki grup(\"Malignant\" ve \"Benign\") için ilgili değişkenlerin etki büyüklüğünün hesaplanması:\n",
    "\n",
    "for col in columns:    \n",
    "    mean_diff = data_malignant[col].mean() - data_benign[col].mean()\n",
    "\n",
    "    var_benign = data_benign[col].var()\n",
    "    var_malignant = data_malignant[col].var()\n",
    "\n",
    "    var_pooled = (len(data_benign)*var_benign +len(data_malignant)*var_malignant ) / float(len(data_benign)+ len(data_malignant))\n",
    "    effect_size = mean_diff/np.sqrt(var_pooled)\n",
    "    print(col)\n",
    "    print(\"Etki Büyüklüğü: \",effect_size,\"\\n\")"
   ]
  },
  {
   "cell_type": "markdown",
   "metadata": {},
   "source": [
    "* 0.2'nin 'küçük', 0.5'in 'orta' ve 0.8'in 'büyük' etki büyüklüğünü temsil ettiği öne sürülür. Bu bağlamda değerlerin çok yüksek çıktığı gözlenmektedir. Gruplar arasındaki ilgili değişkenler için ortalama farkların 1 hatta 2 standart sapmadan daha uzak olduğunun bir göstergesidir ve karşılatırılan iki grubun ilgili kolonlarının birbirinden farklı olduğunu söyleyebiliriz. "
   ]
  },
  {
   "cell_type": "markdown",
   "metadata": {},
   "source": [
    "## **Soru 4 :** \n",
    "##### **Bayes Teoreminin gerçek hayatta karşımıza çıkan ve kullanılan örneklerinden 5 tane bulalım.**\n"
   ]
  },
  {
   "cell_type": "markdown",
   "metadata": {},
   "source": [
    "* Örnek 1 : \n",
    "Spam filtreleme. Bayes teoremi, bir e-posta mesajının spam olup olmadığının tahmin etmesine yardımcı olur.\n",
    "\n",
    "* Örnek 2 : \n",
    "İkinci Dünya Savaşı sırasında, İngiliz kod yazarı Alan Turing, “kırılmaz” Enigma kodunun çatlamasına yardımcı olmak için Bayes teorisine dayanan bir sistem geliştirmiştir.Bir mesajdaki bir dizi harfin tahmin edilmesi için sistemi kullanmış, bu da olasılıkların hesaplanmasına ve yeni mesajların geldiği varsayımlarının gözden geçirilmesine yol açmıştır.\n",
    "\n",
    "* Örnek 3:\n",
    "Yeni ilaç sınamaları. Yeni bir uyuşturucu madde testinin değerlendirilmesinde de Bayes teoremi yardımcı olabilir. \n",
    "\n",
    "* Örnek 4:\n",
    "Yağmur yağma durumu fıskiyenin çalışma olasılığını etkiler. Çimlerin ıslak olma olasılığı ise hem fıskiyeye hem de yağmura bağlıdır. \n",
    "\n",
    "* Örnek 5:\n",
    "Kullanım alanlarına ek olarak gerçek zamanlı tahmin, çok sınıflı tahmin, metin sınıflandırması, duyarlılık analizi ve öneri sistemleri verilebilir.\n"
   ]
  },
  {
   "cell_type": "markdown",
   "metadata": {},
   "source": [
    "## **Soru 5 :**\n",
    "\n",
    "##### **Poisson, Normal , Gamma, Weilbull ve Logaritmik dağılımların benzer ve farklı yönlerini bir tablo halinde çıkaralım.**\n"
   ]
  },
  {
   "cell_type": "markdown",
   "metadata": {},
   "source": [
    "1- Normal Dağılım\n",
    "\n",
    "* Normal dağılım, aynı zamanda Gauss dağılımı veya Gauss tipi dağılım olarak isimlendirilir ve birçok alanda pratik uygulaması vardır.\n",
    "* Sürekli olasılık dağılım sınıfındadır.\n",
    "*Standart normal dağılımda, ortalama 0, standart sapma 1’dir.\n",
    "* Dağılım ortalamaya göre simetriktir. %50'si sağda %50'si soldadır.\n",
    "* Aritmetik ortalama, mod ve medyan birbirine eşittir.\n",
    "* Olasılık dağılımlarında büyük örnekle çalışıldığı takdirde normal dağılıma yaklaşılır.\n",
    "\n",
    "2- Weibull dağılımı\n",
    "\n",
    "* Asimetrik dağılımlar ailesinin bir üyesi de Weibull dağılımıdır.\n",
    "* Yaşama, hayatta kalım ve yetmezlikle yıkım süreçlerini inceleyen verilerin analizi alanında Weibull dağılımı çok elastik olup kolayca değiştirilebildiği için çok kullanılmaktadır.\n",
    "* Değişik parametre değerleri kullanılarak normal dağılım, üstel dağılım gibi çok popüler diğer istatistiksel dağılımların davranışlarını Weibull dağılımı kullanarak aynen taklit etme imkanı bulunmaktadır. \n",
    "* Gamma dağılımından farkı olasılık dağılım fonksiyonlarındaki mod noktasının yerleşimi ve fonksiyon şeklinin farklı olmasıdır.\n",
    "* Weibull dağılımı pratikte çok kere normal dağılım yerine kullanılmaktadır.\n",
    "* Sistemde sadece rassal bozulmalar oluyorsa üstel, sistemde birden fazla bileşen bozulması meydana geliyorsa weibull kullanılır.\n",
    "* Meteorolojide tahminlerde, özellikle de rüzgar hızı ve enerjisi belirleme potansiyelinde sıklıkça kullanılır.\n",
    "\n",
    "3- Gamma Dağılım\n",
    "\n",
    "* Gamma dağılımı iki parametreli bir sürekli olasılık dağılımıdır.\n",
    "* Güvenilirlik teorisi ve yaşam testi için kullanışlıdır.\n",
    "*Nadiren ham formunda kullanılırken, üstel, ki-kare gibi diğer yaygın olarak kullanılan dağılımlar ve Erlang dağılımları Gamma dağılımının özel durumlarıdır.\n",
    "\n",
    "\n",
    "4- Logaritmik (log-normal) Dağılım\n",
    "\n",
    "* Bir değişimin logaritmasının normal dağılım göstermesi durumunda olasılık yoğunluk fonksiyonu log-normal dağılım fonksiyonu ile temsil edilir.\n",
    "* Log-normal dağılım logaritması normal dağılım gösteren herhangi bir rassal değişken için tek-kuyruklu bir olasılık dağılımdır.\n",
    "* Log-normal değişkene ilişkin olasılıkların hesaplanması kolaydır.\n",
    "* Malzeme mukavemetleri, metallerin yorulma ömrü, tasarımların tamamlanma süreleri, yağmur şiddetleri ve hava trafiği hacmi gibi pek çok sayıda rasgele değişken için log-normal dağılım model alınabilir.\n",
    "\n",
    "\n",
    "5- Poisson \n",
    "\n",
    "* Poisson rasgele değişkeni nadir gerçekleşen bir olayın bir zaman aralığında kaç kez meydana geldiğini modellemek için kullanılır.\n",
    "* Poisson dağılımı, Binom dağılımının, nadir gözlenen bir olayın olasılığının çok küçük olması nedeniyle ortalama gerçekleşme sayısının olası tüm olayların sayısından çok daha küçük olduğu için özel bir durumudur. \n",
    "* Poisson dağılımı, Binom dağılımının bir yaklaşımı olduğundan ortalama etrafında asimetrik dağılan bir dağılımdır.\n",
    "\n"
   ]
  }
 ],
 "metadata": {
  "kernelspec": {
   "display_name": "Python 3 (ipykernel)",
   "language": "python",
   "name": "python3"
  },
  "language_info": {
   "codemirror_mode": {
    "name": "ipython",
    "version": 3
   },
   "file_extension": ".py",
   "mimetype": "text/x-python",
   "name": "python",
   "nbconvert_exporter": "python",
   "pygments_lexer": "ipython3",
   "version": "3.8.10"
  }
 },
 "nbformat": 4,
 "nbformat_minor": 4
}
